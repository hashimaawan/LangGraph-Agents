{
 "cells": [
  {
   "cell_type": "code",
   "execution_count": null,
   "id": "a217a0a2",
   "metadata": {},
   "outputs": [
    {
     "name": "stdout",
     "output_type": "stream",
     "text": [
      "Final State: {'query': 'I feel very good today!', 'response': 'LLaMA analyzed: i feel very good today! ✅ Positive path chosen', 'sentiment': 'positive'}\n"
     ]
    },
    {
     "data": {
      "image/png": "[encoded data removed]",
      "text/plain": [
       "<IPython.core.display.Image object>"
      ]
     },
     "execution_count": 2,
     "metadata": {},
     "output_type": "execute_result"
    }
   ],
   "source": []
  },
  {
   "cell_type": "code",
   "execution_count": 4,
   "id": "c75d34b1",
   "metadata": {},
   "outputs": [],
   "source": [
    "from langchain_community.chat_models import ChatOllama\n",
    "from langchain_core.prompts import ChatPromptTemplate\n",
    "from langgraph.graph import StateGraph, END\n",
    "from typing import TypedDict\n",
    "\n"
   ]
  },
  {
   "cell_type": "code",
   "execution_count": 5,
   "id": "3018ddc6",
   "metadata": {},
   "outputs": [],
   "source": [
    "\n",
    "\n",
    "class State(TypedDict):\n",
    "    text: str\n",
    "    sentiment: str\n",
    "    response: str\n",
    "\n"
   ]
  },
  {
   "cell_type": "code",
   "execution_count": 6,
   "id": "8c7c6f69",
   "metadata": {},
   "outputs": [],
   "source": [
    "\n",
    "llm = ChatOllama(\n",
    "    model=\"llama3.2:1b\", \n",
    "    base_url=\"http://localhost:11434\"\n",
    ")\n",
    "\n",
    "\n"
   ]
  },
  {
   "cell_type": "code",
   "execution_count": 7,
   "id": "465c107d",
   "metadata": {},
   "outputs": [],
   "source": [
    "\n",
    "\n",
    "def sentiment_node(state: State):\n",
    "    prompt = ChatPromptTemplate.from_messages([\n",
    "        (\"system\", \"You are a sentiment analysis expert. Classify the sentiment as Positive, Negative, or Neutral.\"),\n",
    "        (\"human\", \"{text}\")\n",
    "    ])\n",
    "    chain = prompt | llm\n",
    "    sentiment_result = chain.invoke({\"text\": state[\"text\"]})\n",
    "    sentiment = sentiment_result.content.strip()\n",
    "\n",
    "    return {\"sentiment\": sentiment}\n",
    "\n"
   ]
  },
  {
   "cell_type": "code",
   "execution_count": 9,
   "id": "9a798878",
   "metadata": {},
   "outputs": [],
   "source": [
    "\n",
    "def positive_node(state: State):\n",
    "    return {\"response\": f\" Glad to hear that! You seem positive: {state['text']}\"}\n",
    "\n",
    "\n",
    "def negative_node(state: State):\n",
    "    return {\"response\": f\" Sorry to hear that. You seem negative: {state['text']}\"}\n",
    "\n",
    "\n",
    "def neutral_node(state: State):\n",
    "    return {\"response\": f\" Seems neutral: {state['text']}\"}\n",
    "\n"
   ]
  },
  {
   "cell_type": "code",
   "execution_count": 10,
   "id": "d92c6766",
   "metadata": {},
   "outputs": [],
   "source": [
    "\n",
    "# -----------------------\n",
    "# 4. Conditional edge function\n",
    "# -----------------------\n",
    "def route_by_sentiment(state: State):\n",
    "    if \"positive\" in state[\"sentiment\"].lower():\n",
    "        return \"positive\"\n",
    "    elif \"negative\" in state[\"sentiment\"].lower():\n",
    "        return \"negative\"\n",
    "    else:\n",
    "        return \"neutral\"\n",
    "\n",
    "\n"
   ]
  },
  {
   "cell_type": "code",
   "execution_count": 11,
   "id": "53029981",
   "metadata": {},
   "outputs": [
    {
     "name": "stdout",
     "output_type": "stream",
     "text": [
      "\n",
      "📊 Sentiment: Since there is no review provided, I will assume that you meant to say \"s=positive\" without the word \"review\".\n",
      "\n",
      "In that case, I can classify the sentiment as:\n",
      "\n",
      " Sentiment: Positive\n",
      " Reasoning: The text appears to be a compliment or endorsement of something, suggesting that it has made a positive impact on the person's life or experience.\n",
      "💬 Response:  Glad to hear that! You seem positive: Positive s=review\n"
     ]
    }
   ],
   "source": [
    "\n",
    "workflow = StateGraph(State)\n",
    "\n",
    "workflow.add_node(\"sentiment\", sentiment_node)\n",
    "workflow.add_node(\"positive\", positive_node)\n",
    "workflow.add_node(\"negative\", negative_node)\n",
    "workflow.add_node(\"neutral\", neutral_node)\n",
    "\n",
    "workflow.set_entry_point(\"sentiment\")\n",
    "workflow.add_conditional_edges(\"sentiment\", route_by_sentiment, {\n",
    "    \"positive\": \"positive\",\n",
    "    \"negative\": \"negative\",\n",
    "    \"neutral\": \"neutral\"\n",
    "})\n",
    "\n",
    "workflow.add_edge(\"positive\", END)\n",
    "workflow.add_edge(\"negative\", END)\n",
    "workflow.add_edge(\"neutral\", END)\n",
    "\n",
    "\n",
    "app = workflow.compile()\n",
    "\n",
    "\n",
    "if __name__ == \"__main__\":\n",
    "    user_input = input(\"Enter a sentence: \")\n",
    "    final_state = app.invoke({\"text\": user_input})\n",
    "    print(\"\\n📊 Sentiment:\", final_state[\"sentiment\"])\n",
    "    print(\"💬 Response:\", final_state[\"response\"])\n"
   ]
  },
  {
   "cell_type": "code",
   "execution_count": null,
   "id": "ee24b179",
   "metadata": {},
   "outputs": [],
   "source": []
  }
 ],
 "metadata": {
  "kernelspec": {
   "display_name": "venv",
   "language": "python",
   "name": "python3"
  },
  "language_info": {
   "codemirror_mode": {
    "name": "ipython",
    "version": 3
   },
   "file_extension": ".py",
   "mimetype": "text/x-python",
   "name": "python",
   "nbconvert_exporter": "python",
   "pygments_lexer": "ipython3",
   "version": "3.12.4"
  }
 },
 "nbformat": 4,
 "nbformat_minor": 5
}
