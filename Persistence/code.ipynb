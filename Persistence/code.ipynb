{
 "cells": [
  {
   "cell_type": "code",
   "execution_count": null,
   "id": "5fe01464",
   "metadata": {},
   "outputs": [],
   "source": [
    "#Some Credits @campusX\n",
    "from langgraph.graph import StateGraph, START, END\n",
    "from typing import TypedDict\n",
    "from langchain_openai import ChatOpenAI\n",
    "from dotenv import load_dotenv\n",
    "from langgraph.checkpoint.memory import InMemorySaver # In production you ahve to use a persistent storage like Redis or Postgres"
   ]
  },
  {
   "cell_type": "code",
   "execution_count": 2,
   "id": "d65bfc11",
   "metadata": {},
   "outputs": [],
   "source": [
    "load_dotenv()\n",
    "\n",
    "llm = ChatOpenAI()"
   ]
  },
  {
   "cell_type": "code",
   "execution_count": 16,
   "id": "5922b899",
   "metadata": {},
   "outputs": [],
   "source": [
    "class JokeState(TypedDict):\n",
    "\n",
    "    topic_of_joke: str\n",
    "    actual_joke: str\n",
    "    explanation: str"
   ]
  },
  {
   "cell_type": "code",
   "execution_count": 18,
   "id": "0561076c",
   "metadata": {},
   "outputs": [],
   "source": [
    "def generate_joke(state: JokeState):\n",
    "\n",
    "    prompt = f'generate a joke on the topic {state[\"topic_of_joke\"]}'\n",
    "    response = llm.invoke(prompt).content\n",
    "\n",
    "    return {'actual_joke': response}"
   ]
  },
  {
   "cell_type": "code",
   "execution_count": 19,
   "id": "d95ff880",
   "metadata": {},
   "outputs": [],
   "source": [
    "def generate_explanation(state: JokeState):\n",
    "\n",
    "    prompt = f'write an explanation for the joke - {state[\"actual_joke\"]}'\n",
    "    response = llm.invoke(prompt).content\n",
    "\n",
    "    return {'explanation': response}"
   ]
  },
  {
   "cell_type": "code",
   "execution_count": 21,
   "id": "a1093470",
   "metadata": {},
   "outputs": [],
   "source": [
    "graph = StateGraph(JokeState)\n",
    "\n",
    "graph.add_node('generate_joke', generate_joke)\n",
    "graph.add_node('generate_explanation', generate_explanation)\n",
    "\n",
    "graph.add_edge(START, 'generate_joke')\n",
    "graph.add_edge('generate_joke', 'generate_explanation')\n",
    "graph.add_edge('generate_explanation', END)\n",
    "\n",
    "checkpointer1 = InMemorySaver()\n",
    "\n",
    "workflow = graph.compile(checkpointer=checkpointer1)"
   ]
  },
  {
   "cell_type": "code",
   "execution_count": 24,
   "id": "5e8f11c8",
   "metadata": {},
   "outputs": [
    {
     "data": {
      "text/plain": [
       "{'topic_of_joke': 'paid education',\n",
       " 'actual_joke': 'Why did the student bring a ladder to paid education? To climb to the top of their class and reach their high-paying future!',\n",
       " 'explanation': 'This joke plays on the double meaning of \"climbing to the top\" in the context of education and career success. By bringing a ladder to paid education, the student is humorously illustrating their determination to excel in school and eventually land a high-paying job. The image of physically climbing up a ladder mirrors the idea of moving up the academic and professional ranks to achieve success.'}"
      ]
     },
     "execution_count": 24,
     "metadata": {},
     "output_type": "execute_result"
    }
   ],
   "source": [
    "config1 = {\"configurable\": {\"thread_id\": \"1\"}}\n",
    "workflow.invoke({'topic_of_joke':'paid education'}, config=config1)"
   ]
  },
  {
   "cell_type": "code",
   "execution_count": 25,
   "id": "a6857b9c",
   "metadata": {},
   "outputs": [
    {
     "data": {
      "text/plain": [
       "StateSnapshot(values={'topic_of_joke': 'paid education', 'actual_joke': 'Why did the student bring a ladder to paid education? To climb to the top of their class and reach their high-paying future!', 'explanation': 'This joke plays on the double meaning of \"climbing to the top\" in the context of education and career success. By bringing a ladder to paid education, the student is humorously illustrating their determination to excel in school and eventually land a high-paying job. The image of physically climbing up a ladder mirrors the idea of moving up the academic and professional ranks to achieve success.'}, next=(), config={'configurable': {'thread_id': '1', 'checkpoint_ns': '', 'checkpoint_id': '1f07e7ee-5a0d-6faa-8008-73c3d3425512'}}, metadata={'source': 'loop', 'step': 8, 'parents': {}, 'thread_id': '1'}, created_at='2025-08-21T11:06:33.198993+00:00', parent_config={'configurable': {'thread_id': '1', 'checkpoint_ns': '', 'checkpoint_id': '1f07e7ee-4424-6b57-8007-721ec948dc11'}}, tasks=(), interrupts=())"
      ]
     },
     "execution_count": 25,
     "metadata": {},
     "output_type": "execute_result"
    }
   ],
   "source": [
    "workflow.get_state(config1)"
   ]
  },
  {
   "cell_type": "code",
   "execution_count": 26,
   "id": "eb9eecda",
   "metadata": {},
   "outputs": [
    {
     "data": {
      "text/plain": [
       "[StateSnapshot(values={'topic_of_joke': 'paid education', 'actual_joke': 'Why did the student bring a ladder to paid education? To climb to the top of their class and reach their high-paying future!', 'explanation': 'This joke plays on the double meaning of \"climbing to the top\" in the context of education and career success. By bringing a ladder to paid education, the student is humorously illustrating their determination to excel in school and eventually land a high-paying job. The image of physically climbing up a ladder mirrors the idea of moving up the academic and professional ranks to achieve success.'}, next=(), config={'configurable': {'thread_id': '1', 'checkpoint_ns': '', 'checkpoint_id': '1f07e7ee-5a0d-6faa-8008-73c3d3425512'}}, metadata={'source': 'loop', 'step': 8, 'parents': {}, 'thread_id': '1'}, created_at='2025-08-21T11:06:33.198993+00:00', parent_config={'configurable': {'thread_id': '1', 'checkpoint_ns': '', 'checkpoint_id': '1f07e7ee-4424-6b57-8007-721ec948dc11'}}, tasks=(), interrupts=()),\n",
       " StateSnapshot(values={'topic_of_joke': 'paid education', 'actual_joke': 'Why did the student bring a ladder to paid education? To climb to the top of their class and reach their high-paying future!', 'explanation': 'The joke plays on the idea of a \"high-paying job\" in two different ways. Firstly, the student literally brought a ladder to the seminar because they thought it was a job where they would be working at a high elevation and needed a ladder to reach their work. Secondly, the phrase \"high-paying job\" is commonly used to describe a job that pays well, so the student thought that bringing a ladder would help them secure this high-paying opportunity. Overall, the humor comes from the clever wordplay and the unexpected twist on the concept of a high-paying job.'}, next=('generate_explanation',), config={'configurable': {'thread_id': '1', 'checkpoint_ns': '', 'checkpoint_id': '1f07e7ee-4424-6b57-8007-721ec948dc11'}}, metadata={'source': 'loop', 'step': 7, 'parents': {}, 'thread_id': '1'}, created_at='2025-08-21T11:06:30.901435+00:00', parent_config={'configurable': {'thread_id': '1', 'checkpoint_ns': '', 'checkpoint_id': '1f07e7ee-341c-6047-8006-416581e54640'}}, tasks=(PregelTask(id='eb57c28f-05ce-6517-7230-cbb92a07048f', name='generate_explanation', path=('__pregel_pull', 'generate_explanation'), error=None, interrupts=(), state=None, result={'explanation': 'This joke plays on the double meaning of \"climbing to the top\" in the context of education and career success. By bringing a ladder to paid education, the student is humorously illustrating their determination to excel in school and eventually land a high-paying job. The image of physically climbing up a ladder mirrors the idea of moving up the academic and professional ranks to achieve success.'}),), interrupts=()),\n",
       " StateSnapshot(values={'topic_of_joke': 'paid education', 'actual_joke': 'Why did the student bring a ladder to the paid education seminar? \\nBecause they heard it was a high-paying job opportunity!', 'explanation': 'The joke plays on the idea of a \"high-paying job\" in two different ways. Firstly, the student literally brought a ladder to the seminar because they thought it was a job where they would be working at a high elevation and needed a ladder to reach their work. Secondly, the phrase \"high-paying job\" is commonly used to describe a job that pays well, so the student thought that bringing a ladder would help them secure this high-paying opportunity. Overall, the humor comes from the clever wordplay and the unexpected twist on the concept of a high-paying job.'}, next=('generate_joke',), config={'configurable': {'thread_id': '1', 'checkpoint_ns': '', 'checkpoint_id': '1f07e7ee-341c-6047-8006-416581e54640'}}, metadata={'source': 'loop', 'step': 6, 'parents': {}, 'thread_id': '1'}, created_at='2025-08-21T11:06:29.220154+00:00', parent_config={'configurable': {'thread_id': '1', 'checkpoint_ns': '', 'checkpoint_id': '1f07e7ee-3419-68b8-8005-9025d27995e4'}}, tasks=(PregelTask(id='22fd3cb3-c24e-0505-4f3c-c91f21b50b64', name='generate_joke', path=('__pregel_pull', 'generate_joke'), error=None, interrupts=(), state=None, result={'actual_joke': 'Why did the student bring a ladder to paid education? To climb to the top of their class and reach their high-paying future!'}),), interrupts=()),\n",
       " StateSnapshot(values={'topic_of_joke': 'paid education', 'actual_joke': 'Why did the student bring a ladder to the paid education seminar? \\nBecause they heard it was a high-paying job opportunity!', 'explanation': 'The joke plays on the idea of a \"high-paying job\" in two different ways. Firstly, the student literally brought a ladder to the seminar because they thought it was a job where they would be working at a high elevation and needed a ladder to reach their work. Secondly, the phrase \"high-paying job\" is commonly used to describe a job that pays well, so the student thought that bringing a ladder would help them secure this high-paying opportunity. Overall, the humor comes from the clever wordplay and the unexpected twist on the concept of a high-paying job.'}, next=('__start__',), config={'configurable': {'thread_id': '1', 'checkpoint_ns': '', 'checkpoint_id': '1f07e7ee-3419-68b8-8005-9025d27995e4'}}, metadata={'source': 'input', 'step': 5, 'parents': {}, 'thread_id': '1'}, created_at='2025-08-21T11:06:29.219141+00:00', parent_config={'configurable': {'thread_id': '1', 'checkpoint_ns': '', 'checkpoint_id': '1f07e7c0-a53f-69af-8004-1ea1af46933b'}}, tasks=(PregelTask(id='515883a1-3566-4d4f-6d40-a1e15bada8c9', name='__start__', path=('__pregel_pull', '__start__'), error=None, interrupts=(), state=None, result={'topic_of_joke': 'paid education'}),), interrupts=()),\n",
       " StateSnapshot(values={'topic_of_joke': 'paid education', 'actual_joke': 'Why did the student bring a ladder to the paid education seminar? \\nBecause they heard it was a high-paying job opportunity!', 'explanation': 'The joke plays on the idea of a \"high-paying job\" in two different ways. Firstly, the student literally brought a ladder to the seminar because they thought it was a job where they would be working at a high elevation and needed a ladder to reach their work. Secondly, the phrase \"high-paying job\" is commonly used to describe a job that pays well, so the student thought that bringing a ladder would help them secure this high-paying opportunity. Overall, the humor comes from the clever wordplay and the unexpected twist on the concept of a high-paying job.'}, next=(), config={'configurable': {'thread_id': '1', 'checkpoint_ns': '', 'checkpoint_id': '1f07e7c0-a53f-69af-8004-1ea1af46933b'}}, metadata={'source': 'loop', 'step': 4, 'parents': {}, 'thread_id': '1'}, created_at='2025-08-21T10:46:06.280542+00:00', parent_config={'configurable': {'thread_id': '1', 'checkpoint_ns': '', 'checkpoint_id': '1f07e7c0-8292-6ee9-8003-8c9fcc546429'}}, tasks=(), interrupts=()),\n",
       " StateSnapshot(values={'topic_of_joke': 'paid education', 'actual_joke': 'Why did the student bring a ladder to the paid education seminar? \\nBecause they heard it was a high-paying job opportunity!'}, next=('generate_explanation',), config={'configurable': {'thread_id': '1', 'checkpoint_ns': '', 'checkpoint_id': '1f07e7c0-8292-6ee9-8003-8c9fcc546429'}}, metadata={'source': 'loop', 'step': 3, 'parents': {}, 'thread_id': '1'}, created_at='2025-08-21T10:46:02.644656+00:00', parent_config={'configurable': {'thread_id': '1', 'checkpoint_ns': '', 'checkpoint_id': '1f07e7c0-6a65-6246-8002-37519ea446d1'}}, tasks=(PregelTask(id='a4486fd8-ed10-291a-acdb-4b22ae4fbe19', name='generate_explanation', path=('__pregel_pull', 'generate_explanation'), error=None, interrupts=(), state=None, result={'explanation': 'The joke plays on the idea of a \"high-paying job\" in two different ways. Firstly, the student literally brought a ladder to the seminar because they thought it was a job where they would be working at a high elevation and needed a ladder to reach their work. Secondly, the phrase \"high-paying job\" is commonly used to describe a job that pays well, so the student thought that bringing a ladder would help them secure this high-paying opportunity. Overall, the humor comes from the clever wordplay and the unexpected twist on the concept of a high-paying job.'}),), interrupts=()),\n",
       " StateSnapshot(values={'topic_of_joke': 'paid education'}, next=('generate_joke',), config={'configurable': {'thread_id': '1', 'checkpoint_ns': '', 'checkpoint_id': '1f07e7c0-6a65-6246-8002-37519ea446d1'}}, metadata={'source': 'loop', 'step': 2, 'parents': {}, 'thread_id': '1'}, created_at='2025-08-21T10:46:00.109318+00:00', parent_config={'configurable': {'thread_id': '1', 'checkpoint_ns': '', 'checkpoint_id': '1f07e7c0-6a65-6245-8001-e8ef7e75f824'}}, tasks=(PregelTask(id='af022a7e-034a-e184-0b3f-dfd66ddb4965', name='generate_joke', path=('__pregel_pull', 'generate_joke'), error=None, interrupts=(), state=None, result={'actual_joke': 'Why did the student bring a ladder to the paid education seminar? \\nBecause they heard it was a high-paying job opportunity!'}),), interrupts=()),\n",
       " StateSnapshot(values={}, next=('__start__',), config={'configurable': {'thread_id': '1', 'checkpoint_ns': '', 'checkpoint_id': '1f07e7c0-6a65-6245-8001-e8ef7e75f824'}}, metadata={'source': 'input', 'step': 1, 'parents': {}, 'thread_id': '1'}, created_at='2025-08-21T10:46:00.109318+00:00', parent_config={'configurable': {'thread_id': '1', 'checkpoint_ns': '', 'checkpoint_id': '1f07e7be-b446-6b6b-8000-b3794ef83222'}}, tasks=(PregelTask(id='fb88d26b-df0d-7615-287f-37cabbda2772', name='__start__', path=('__pregel_pull', '__start__'), error=None, interrupts=(), state=None, result={'topic_of_joke': 'paid education'}),), interrupts=()),\n",
       " StateSnapshot(values={}, next=('generate_joke',), config={'configurable': {'thread_id': '1', 'checkpoint_ns': '', 'checkpoint_id': '1f07e7be-b446-6b6b-8000-b3794ef83222'}}, metadata={'source': 'loop', 'step': 0, 'parents': {}, 'thread_id': '1'}, created_at='2025-08-21T10:45:14.169226+00:00', parent_config={'configurable': {'thread_id': '1', 'checkpoint_ns': '', 'checkpoint_id': '1f07e7be-b444-6468-bfff-703b001aa9d8'}}, tasks=(PregelTask(id='ab271ba6-44d6-9563-43ea-2f0b65970cbf', name='generate_joke', path=('__pregel_pull', 'generate_joke'), error=\"KeyError('topic_of_joke')\", interrupts=(), state=None, result=None),), interrupts=()),\n",
       " StateSnapshot(values={}, next=('__start__',), config={'configurable': {'thread_id': '1', 'checkpoint_ns': '', 'checkpoint_id': '1f07e7be-b444-6468-bfff-703b001aa9d8'}}, metadata={'source': 'input', 'step': -1, 'parents': {}, 'thread_id': '1'}, created_at='2025-08-21T10:45:14.168227+00:00', parent_config=None, tasks=(PregelTask(id='0d08fc3f-10d3-03a1-d6c3-8e0920134f44', name='__start__', path=('__pregel_pull', '__start__'), error=None, interrupts=(), state=None, result={}),), interrupts=())]"
      ]
     },
     "execution_count": 26,
     "metadata": {},
     "output_type": "execute_result"
    }
   ],
   "source": [
    "list(workflow.get_state_history(config1))"
   ]
  },
  {
   "cell_type": "code",
   "execution_count": null,
   "id": "628a9f28",
   "metadata": {},
   "outputs": [
    {
     "data": {
      "text/plain": [
       "{'topic_of_joke': 'unpaid internships',\n",
       " 'actual_joke': 'Why did the unpaid intern bring a ladder to work? \\nBecause they heard they had to climb the corporate ladder for a chance at a paid position!',\n",
       " 'explanation': 'This joke is playing on the phrase \"climbing the corporate ladder,\" which refers to advancing in a company\\'s hierarchy or moving up in one\\'s career. In this case, the unpaid intern brought a ladder to work because they took the phrase literally and thought they needed to physically climb a ladder to have a chance at a paid position. It highlights the struggle and competitiveness in the workplace, especially for interns or entry-level employees trying to secure a permanent, paid role.'}"
      ]
     },
     "execution_count": 28,
     "metadata": {},
     "output_type": "execute_result"
    }
   ],
   "source": [
    "config2 = {\"configurable\": {\"thread_id\": \"2\"}}\n",
    "workflow.invoke({'topic_of_joke':'unpaid_internships'}, config=config2)"
   ]
  },
  {
   "cell_type": "code",
   "execution_count": 29,
   "id": "eef5beb5",
   "metadata": {},
   "outputs": [
    {
     "data": {
      "text/plain": [
       "StateSnapshot(values={'topic_of_joke': 'unpaid internships', 'actual_joke': 'Why did the unpaid intern bring a ladder to work? \\nBecause they heard they had to climb the corporate ladder for a chance at a paid position!', 'explanation': 'This joke is playing on the phrase \"climbing the corporate ladder,\" which refers to advancing in a company\\'s hierarchy or moving up in one\\'s career. In this case, the unpaid intern brought a ladder to work because they took the phrase literally and thought they needed to physically climb a ladder to have a chance at a paid position. It highlights the struggle and competitiveness in the workplace, especially for interns or entry-level employees trying to secure a permanent, paid role.'}, next=(), config={'configurable': {'thread_id': '2', 'checkpoint_ns': '', 'checkpoint_id': '1f07e7f1-de0b-652c-8004-3fa3b60ba7c1'}}, metadata={'source': 'loop', 'step': 4, 'parents': {}, 'thread_id': '2'}, created_at='2025-08-21T11:08:07.569745+00:00', parent_config={'configurable': {'thread_id': '2', 'checkpoint_ns': '', 'checkpoint_id': '1f07e7f1-c53c-6380-8003-8e8765aae3a6'}}, tasks=(), interrupts=())"
      ]
     },
     "execution_count": 29,
     "metadata": {},
     "output_type": "execute_result"
    }
   ],
   "source": [
    "workflow.get_state(config2)"
   ]
  },
  {
   "cell_type": "code",
   "execution_count": 30,
   "id": "f7d0ea21",
   "metadata": {},
   "outputs": [
    {
     "data": {
      "text/plain": [
       "[StateSnapshot(values={'topic_of_joke': 'unpaid internships', 'actual_joke': 'Why did the unpaid intern bring a ladder to work? \\nBecause they heard they had to climb the corporate ladder for a chance at a paid position!', 'explanation': 'This joke is playing on the phrase \"climbing the corporate ladder,\" which refers to advancing in a company\\'s hierarchy or moving up in one\\'s career. In this case, the unpaid intern brought a ladder to work because they took the phrase literally and thought they needed to physically climb a ladder to have a chance at a paid position. It highlights the struggle and competitiveness in the workplace, especially for interns or entry-level employees trying to secure a permanent, paid role.'}, next=(), config={'configurable': {'thread_id': '2', 'checkpoint_ns': '', 'checkpoint_id': '1f07e7f1-de0b-652c-8004-3fa3b60ba7c1'}}, metadata={'source': 'loop', 'step': 4, 'parents': {}, 'thread_id': '2'}, created_at='2025-08-21T11:08:07.569745+00:00', parent_config={'configurable': {'thread_id': '2', 'checkpoint_ns': '', 'checkpoint_id': '1f07e7f1-c53c-6380-8003-8e8765aae3a6'}}, tasks=(), interrupts=()),\n",
       " StateSnapshot(values={'topic_of_joke': 'unpaid internships', 'actual_joke': 'Why did the unpaid intern bring a ladder to work? \\nBecause they heard they had to climb the corporate ladder for a chance at a paid position!'}, next=('generate_explanation',), config={'configurable': {'thread_id': '2', 'checkpoint_ns': '', 'checkpoint_id': '1f07e7f1-c53c-6380-8003-8e8765aae3a6'}}, metadata={'source': 'loop', 'step': 3, 'parents': {}, 'thread_id': '2'}, created_at='2025-08-21T11:08:04.968332+00:00', parent_config={'configurable': {'thread_id': '2', 'checkpoint_ns': '', 'checkpoint_id': '1f07e7f1-a32e-6063-8002-8388bee51e91'}}, tasks=(PregelTask(id='623f4936-bcae-7fbc-d6f0-e80f5a97bb37', name='generate_explanation', path=('__pregel_pull', 'generate_explanation'), error=None, interrupts=(), state=None, result={'explanation': 'This joke is playing on the phrase \"climbing the corporate ladder,\" which refers to advancing in a company\\'s hierarchy or moving up in one\\'s career. In this case, the unpaid intern brought a ladder to work because they took the phrase literally and thought they needed to physically climb a ladder to have a chance at a paid position. It highlights the struggle and competitiveness in the workplace, especially for interns or entry-level employees trying to secure a permanent, paid role.'}),), interrupts=()),\n",
       " StateSnapshot(values={'topic_of_joke': 'unpaid internships'}, next=('generate_joke',), config={'configurable': {'thread_id': '2', 'checkpoint_ns': '', 'checkpoint_id': '1f07e7f1-a32e-6063-8002-8388bee51e91'}}, metadata={'source': 'loop', 'step': 2, 'parents': {}, 'thread_id': '2'}, created_at='2025-08-21T11:08:01.397360+00:00', parent_config={'configurable': {'thread_id': '2', 'checkpoint_ns': '', 'checkpoint_id': '1f07e7f1-a32b-6952-8001-6e2bfc1192df'}}, tasks=(PregelTask(id='b0f1b5be-b72d-a79c-930d-88fd4c423910', name='generate_joke', path=('__pregel_pull', 'generate_joke'), error=None, interrupts=(), state=None, result={'actual_joke': 'Why did the unpaid intern bring a ladder to work? \\nBecause they heard they had to climb the corporate ladder for a chance at a paid position!'}),), interrupts=()),\n",
       " StateSnapshot(values={}, next=('__start__',), config={'configurable': {'thread_id': '2', 'checkpoint_ns': '', 'checkpoint_id': '1f07e7f1-a32b-6952-8001-6e2bfc1192df'}}, metadata={'source': 'input', 'step': 1, 'parents': {}, 'thread_id': '2'}, created_at='2025-08-21T11:08:01.396360+00:00', parent_config={'configurable': {'thread_id': '2', 'checkpoint_ns': '', 'checkpoint_id': '1f07e7f1-6628-6643-8000-9153fcce63ae'}}, tasks=(PregelTask(id='621e0319-fb65-ef5f-1f0f-825ec1fa930b', name='__start__', path=('__pregel_pull', '__start__'), error=None, interrupts=(), state=None, result={'topic_of_joke': 'unpaid internships'}),), interrupts=()),\n",
       " StateSnapshot(values={}, next=('generate_joke',), config={'configurable': {'thread_id': '2', 'checkpoint_ns': '', 'checkpoint_id': '1f07e7f1-6628-6643-8000-9153fcce63ae'}}, metadata={'source': 'loop', 'step': 0, 'parents': {}, 'thread_id': '2'}, created_at='2025-08-21T11:07:54.998739+00:00', parent_config={'configurable': {'thread_id': '2', 'checkpoint_ns': '', 'checkpoint_id': '1f07e7f1-6625-6f3f-bfff-7b502a75cd6b'}}, tasks=(PregelTask(id='be6c2d51-bca2-9521-add5-a7d5fda3ce3a', name='generate_joke', path=('__pregel_pull', 'generate_joke'), error=\"KeyError('topic_of_joke')\", interrupts=(), state=None, result=None),), interrupts=()),\n",
       " StateSnapshot(values={}, next=('__start__',), config={'configurable': {'thread_id': '2', 'checkpoint_ns': '', 'checkpoint_id': '1f07e7f1-6625-6f3f-bfff-7b502a75cd6b'}}, metadata={'source': 'input', 'step': -1, 'parents': {}, 'thread_id': '2'}, created_at='2025-08-21T11:07:54.997740+00:00', parent_config=None, tasks=(PregelTask(id='a08c2e67-0e2e-c496-2fe4-61766fc63666', name='__start__', path=('__pregel_pull', '__start__'), error=None, interrupts=(), state=None, result={}),), interrupts=())]"
      ]
     },
     "execution_count": 30,
     "metadata": {},
     "output_type": "execute_result"
    }
   ],
   "source": [
    "list(workflow.get_state_history(config2))"
   ]
  },
  {
   "cell_type": "markdown",
   "id": "5fccccee",
   "metadata": {},
   "source": [
    "### Time Travel"
   ]
  },
  {
   "cell_type": "code",
   "execution_count": 31,
   "id": "b5bfa235",
   "metadata": {},
   "outputs": [
    {
     "data": {
      "text/plain": [
       "StateSnapshot(values={}, next=(), config={'configurable': {'thread_id': '1', 'checkpoint_id': '1f06cc6e-7232-6cb1-8000-f71609e6cec5'}}, metadata=None, created_at=None, parent_config=None, tasks=(), interrupts=())"
      ]
     },
     "execution_count": 31,
     "metadata": {},
     "output_type": "execute_result"
    }
   ],
   "source": [
    "workflow.get_state({\"configurable\": {\"thread_id\": \"1\", \"checkpoint_id\": \"1f06cc6e-7232-6cb1-8000-f71609e6cec5\"}})"
   ]
  },
  {
   "cell_type": "code",
   "execution_count": 32,
   "id": "a28d72fa",
   "metadata": {},
   "outputs": [
    {
     "ename": "EmptyInputError",
     "evalue": "Received no input for __start__",
     "output_type": "error",
     "traceback": [
      "\u001b[31m---------------------------------------------------------------------------\u001b[39m",
      "\u001b[31mEmptyInputError\u001b[39m                           Traceback (most recent call last)",
      "\u001b[36mCell\u001b[39m\u001b[36m \u001b[39m\u001b[32mIn[32]\u001b[39m\u001b[32m, line 1\u001b[39m\n\u001b[32m----> \u001b[39m\u001b[32m1\u001b[39m \u001b[43mworkflow\u001b[49m\u001b[43m.\u001b[49m\u001b[43minvoke\u001b[49m\u001b[43m(\u001b[49m\u001b[38;5;28;43;01mNone\u001b[39;49;00m\u001b[43m,\u001b[49m\u001b[43m \u001b[49m\u001b[43m{\u001b[49m\u001b[33;43m\"\u001b[39;49m\u001b[33;43mconfigurable\u001b[39;49m\u001b[33;43m\"\u001b[39;49m\u001b[43m:\u001b[49m\u001b[43m \u001b[49m\u001b[43m{\u001b[49m\u001b[33;43m\"\u001b[39;49m\u001b[33;43mthread_id\u001b[39;49m\u001b[33;43m\"\u001b[39;49m\u001b[43m:\u001b[49m\u001b[43m \u001b[49m\u001b[33;43m\"\u001b[39;49m\u001b[33;43m1\u001b[39;49m\u001b[33;43m\"\u001b[39;49m\u001b[43m,\u001b[49m\u001b[43m \u001b[49m\u001b[33;43m\"\u001b[39;49m\u001b[33;43mcheckpoint_id\u001b[39;49m\u001b[33;43m\"\u001b[39;49m\u001b[43m:\u001b[49m\u001b[43m \u001b[49m\u001b[33;43m\"\u001b[39;49m\u001b[33;43m1f06cc6e-7232-6cb1-8000-f71609e6cec5\u001b[39;49m\u001b[33;43m\"\u001b[39;49m\u001b[43m}\u001b[49m\u001b[43m}\u001b[49m\u001b[43m)\u001b[49m\n",
      "\u001b[36mFile \u001b[39m\u001b[32md:\\Agentic Ai\\LangChain_GenAi_LangGraph\\venv\\Lib\\site-packages\\langgraph\\pregel\\__init__.py:2844\u001b[39m, in \u001b[36mPregel.invoke\u001b[39m\u001b[34m(self, input, config, stream_mode, print_mode, output_keys, interrupt_before, interrupt_after, **kwargs)\u001b[39m\n\u001b[32m   2841\u001b[39m chunks: \u001b[38;5;28mlist\u001b[39m[\u001b[38;5;28mdict\u001b[39m[\u001b[38;5;28mstr\u001b[39m, Any] | Any] = []\n\u001b[32m   2842\u001b[39m interrupts: \u001b[38;5;28mlist\u001b[39m[Interrupt] = []\n\u001b[32m-> \u001b[39m\u001b[32m2844\u001b[39m \u001b[43m\u001b[49m\u001b[38;5;28;43;01mfor\u001b[39;49;00m\u001b[43m \u001b[49m\u001b[43mchunk\u001b[49m\u001b[43m \u001b[49m\u001b[38;5;129;43;01min\u001b[39;49;00m\u001b[43m \u001b[49m\u001b[38;5;28;43mself\u001b[39;49m\u001b[43m.\u001b[49m\u001b[43mstream\u001b[49m\u001b[43m(\u001b[49m\n\u001b[32m   2845\u001b[39m \u001b[43m    \u001b[49m\u001b[38;5;28;43minput\u001b[39;49m\u001b[43m,\u001b[49m\n\u001b[32m   2846\u001b[39m \u001b[43m    \u001b[49m\u001b[43mconfig\u001b[49m\u001b[43m,\u001b[49m\n\u001b[32m   2847\u001b[39m \u001b[43m    \u001b[49m\u001b[43mstream_mode\u001b[49m\u001b[43m=\u001b[49m\u001b[43m[\u001b[49m\u001b[33;43m\"\u001b[39;49m\u001b[33;43mupdates\u001b[39;49m\u001b[33;43m\"\u001b[39;49m\u001b[43m,\u001b[49m\u001b[43m \u001b[49m\u001b[33;43m\"\u001b[39;49m\u001b[33;43mvalues\u001b[39;49m\u001b[33;43m\"\u001b[39;49m\u001b[43m]\u001b[49m\n\u001b[32m   2848\u001b[39m \u001b[43m    \u001b[49m\u001b[38;5;28;43;01mif\u001b[39;49;00m\u001b[43m \u001b[49m\u001b[43mstream_mode\u001b[49m\u001b[43m \u001b[49m\u001b[43m==\u001b[49m\u001b[43m \u001b[49m\u001b[33;43m\"\u001b[39;49m\u001b[33;43mvalues\u001b[39;49m\u001b[33;43m\"\u001b[39;49m\n\u001b[32m   2849\u001b[39m \u001b[43m    \u001b[49m\u001b[38;5;28;43;01melse\u001b[39;49;00m\u001b[43m \u001b[49m\u001b[43mstream_mode\u001b[49m\u001b[43m,\u001b[49m\n\u001b[32m   2850\u001b[39m \u001b[43m    \u001b[49m\u001b[43mprint_mode\u001b[49m\u001b[43m=\u001b[49m\u001b[43mprint_mode\u001b[49m\u001b[43m,\u001b[49m\n\u001b[32m   2851\u001b[39m \u001b[43m    \u001b[49m\u001b[43moutput_keys\u001b[49m\u001b[43m=\u001b[49m\u001b[43moutput_keys\u001b[49m\u001b[43m,\u001b[49m\n\u001b[32m   2852\u001b[39m \u001b[43m    \u001b[49m\u001b[43minterrupt_before\u001b[49m\u001b[43m=\u001b[49m\u001b[43minterrupt_before\u001b[49m\u001b[43m,\u001b[49m\n\u001b[32m   2853\u001b[39m \u001b[43m    \u001b[49m\u001b[43minterrupt_after\u001b[49m\u001b[43m=\u001b[49m\u001b[43minterrupt_after\u001b[49m\u001b[43m,\u001b[49m\n\u001b[32m   2854\u001b[39m \u001b[43m    \u001b[49m\u001b[43m*\u001b[49m\u001b[43m*\u001b[49m\u001b[43mkwargs\u001b[49m\u001b[43m,\u001b[49m\n\u001b[32m   2855\u001b[39m \u001b[43m\u001b[49m\u001b[43m)\u001b[49m\u001b[43m:\u001b[49m\n\u001b[32m   2856\u001b[39m \u001b[43m    \u001b[49m\u001b[38;5;28;43;01mif\u001b[39;49;00m\u001b[43m \u001b[49m\u001b[43mstream_mode\u001b[49m\u001b[43m \u001b[49m\u001b[43m==\u001b[49m\u001b[43m \u001b[49m\u001b[33;43m\"\u001b[39;49m\u001b[33;43mvalues\u001b[39;49m\u001b[33;43m\"\u001b[39;49m\u001b[43m:\u001b[49m\n\u001b[32m   2857\u001b[39m \u001b[43m        \u001b[49m\u001b[38;5;28;43;01mif\u001b[39;49;00m\u001b[43m \u001b[49m\u001b[38;5;28;43mlen\u001b[39;49m\u001b[43m(\u001b[49m\u001b[43mchunk\u001b[49m\u001b[43m)\u001b[49m\u001b[43m \u001b[49m\u001b[43m==\u001b[49m\u001b[43m \u001b[49m\u001b[32;43m2\u001b[39;49m\u001b[43m:\u001b[49m\n",
      "\u001b[36mFile \u001b[39m\u001b[32md:\\Agentic Ai\\LangChain_GenAi_LangGraph\\venv\\Lib\\site-packages\\langgraph\\pregel\\__init__.py:2467\u001b[39m, in \u001b[36mPregel.stream\u001b[39m\u001b[34m(self, input, config, stream_mode, print_mode, output_keys, interrupt_before, interrupt_after, checkpoint_during, debug, subgraphs)\u001b[39m\n\u001b[32m   2465\u001b[39m \u001b[38;5;28;01mif\u001b[39;00m checkpoint_during \u001b[38;5;129;01mis\u001b[39;00m \u001b[38;5;129;01mnot\u001b[39;00m \u001b[38;5;28;01mNone\u001b[39;00m:\n\u001b[32m   2466\u001b[39m     config[CONF][CONFIG_KEY_CHECKPOINT_DURING] = checkpoint_during\n\u001b[32m-> \u001b[39m\u001b[32m2467\u001b[39m \u001b[43m\u001b[49m\u001b[38;5;28;43;01mwith\u001b[39;49;00m\u001b[43m \u001b[49m\u001b[43mSyncPregelLoop\u001b[49m\u001b[43m(\u001b[49m\n\u001b[32m   2468\u001b[39m \u001b[43m    \u001b[49m\u001b[38;5;28;43minput\u001b[39;49m\u001b[43m,\u001b[49m\n\u001b[32m   2469\u001b[39m \u001b[43m    \u001b[49m\u001b[43mstream\u001b[49m\u001b[43m=\u001b[49m\u001b[43mStreamProtocol\u001b[49m\u001b[43m(\u001b[49m\u001b[43mstream\u001b[49m\u001b[43m.\u001b[49m\u001b[43mput\u001b[49m\u001b[43m,\u001b[49m\u001b[43m \u001b[49m\u001b[43mstream_modes\u001b[49m\u001b[43m)\u001b[49m\u001b[43m,\u001b[49m\n\u001b[32m   2470\u001b[39m \u001b[43m    \u001b[49m\u001b[43mconfig\u001b[49m\u001b[43m=\u001b[49m\u001b[43mconfig\u001b[49m\u001b[43m,\u001b[49m\n\u001b[32m   2471\u001b[39m \u001b[43m    \u001b[49m\u001b[43mstore\u001b[49m\u001b[43m=\u001b[49m\u001b[43mstore\u001b[49m\u001b[43m,\u001b[49m\n\u001b[32m   2472\u001b[39m \u001b[43m    \u001b[49m\u001b[43mcache\u001b[49m\u001b[43m=\u001b[49m\u001b[43mcache\u001b[49m\u001b[43m,\u001b[49m\n\u001b[32m   2473\u001b[39m \u001b[43m    \u001b[49m\u001b[43mcheckpointer\u001b[49m\u001b[43m=\u001b[49m\u001b[43mcheckpointer\u001b[49m\u001b[43m,\u001b[49m\n\u001b[32m   2474\u001b[39m \u001b[43m    \u001b[49m\u001b[43mnodes\u001b[49m\u001b[43m=\u001b[49m\u001b[38;5;28;43mself\u001b[39;49m\u001b[43m.\u001b[49m\u001b[43mnodes\u001b[49m\u001b[43m,\u001b[49m\n\u001b[32m   2475\u001b[39m \u001b[43m    \u001b[49m\u001b[43mspecs\u001b[49m\u001b[43m=\u001b[49m\u001b[38;5;28;43mself\u001b[39;49m\u001b[43m.\u001b[49m\u001b[43mchannels\u001b[49m\u001b[43m,\u001b[49m\n\u001b[32m   2476\u001b[39m \u001b[43m    \u001b[49m\u001b[43moutput_keys\u001b[49m\u001b[43m=\u001b[49m\u001b[43moutput_keys\u001b[49m\u001b[43m,\u001b[49m\n\u001b[32m   2477\u001b[39m \u001b[43m    \u001b[49m\u001b[43minput_keys\u001b[49m\u001b[43m=\u001b[49m\u001b[38;5;28;43mself\u001b[39;49m\u001b[43m.\u001b[49m\u001b[43minput_channels\u001b[49m\u001b[43m,\u001b[49m\n\u001b[32m   2478\u001b[39m \u001b[43m    \u001b[49m\u001b[43mstream_keys\u001b[49m\u001b[43m=\u001b[49m\u001b[38;5;28;43mself\u001b[39;49m\u001b[43m.\u001b[49m\u001b[43mstream_channels_asis\u001b[49m\u001b[43m,\u001b[49m\n\u001b[32m   2479\u001b[39m \u001b[43m    \u001b[49m\u001b[43minterrupt_before\u001b[49m\u001b[43m=\u001b[49m\u001b[43minterrupt_before_\u001b[49m\u001b[43m,\u001b[49m\n\u001b[32m   2480\u001b[39m \u001b[43m    \u001b[49m\u001b[43minterrupt_after\u001b[49m\u001b[43m=\u001b[49m\u001b[43minterrupt_after_\u001b[49m\u001b[43m,\u001b[49m\n\u001b[32m   2481\u001b[39m \u001b[43m    \u001b[49m\u001b[43mmanager\u001b[49m\u001b[43m=\u001b[49m\u001b[43mrun_manager\u001b[49m\u001b[43m,\u001b[49m\n\u001b[32m   2482\u001b[39m \u001b[43m    \u001b[49m\u001b[43mcheckpoint_during\u001b[49m\u001b[43m=\u001b[49m\u001b[43mcheckpoint_during\u001b[49m\n\u001b[32m   2483\u001b[39m \u001b[43m    \u001b[49m\u001b[38;5;28;43;01mif\u001b[39;49;00m\u001b[43m \u001b[49m\u001b[43mcheckpoint_during\u001b[49m\u001b[43m \u001b[49m\u001b[38;5;129;43;01mis\u001b[39;49;00m\u001b[43m \u001b[49m\u001b[38;5;129;43;01mnot\u001b[39;49;00m\u001b[43m \u001b[49m\u001b[38;5;28;43;01mNone\u001b[39;49;00m\n\u001b[32m   2484\u001b[39m \u001b[43m    \u001b[49m\u001b[38;5;28;43;01melse\u001b[39;49;00m\u001b[43m \u001b[49m\u001b[43mconfig\u001b[49m\u001b[43m[\u001b[49m\u001b[43mCONF\u001b[49m\u001b[43m]\u001b[49m\u001b[43m.\u001b[49m\u001b[43mget\u001b[49m\u001b[43m(\u001b[49m\u001b[43mCONFIG_KEY_CHECKPOINT_DURING\u001b[49m\u001b[43m,\u001b[49m\u001b[43m \u001b[49m\u001b[38;5;28;43;01mTrue\u001b[39;49;00m\u001b[43m)\u001b[49m\u001b[43m,\u001b[49m\n\u001b[32m   2485\u001b[39m \u001b[43m    \u001b[49m\u001b[43mtrigger_to_nodes\u001b[49m\u001b[43m=\u001b[49m\u001b[38;5;28;43mself\u001b[39;49m\u001b[43m.\u001b[49m\u001b[43mtrigger_to_nodes\u001b[49m\u001b[43m,\u001b[49m\n\u001b[32m   2486\u001b[39m \u001b[43m    \u001b[49m\u001b[43mmigrate_checkpoint\u001b[49m\u001b[43m=\u001b[49m\u001b[38;5;28;43mself\u001b[39;49m\u001b[43m.\u001b[49m\u001b[43m_migrate_checkpoint\u001b[49m\u001b[43m,\u001b[49m\n\u001b[32m   2487\u001b[39m \u001b[43m    \u001b[49m\u001b[43mretry_policy\u001b[49m\u001b[43m=\u001b[49m\u001b[38;5;28;43mself\u001b[39;49m\u001b[43m.\u001b[49m\u001b[43mretry_policy\u001b[49m\u001b[43m,\u001b[49m\n\u001b[32m   2488\u001b[39m \u001b[43m    \u001b[49m\u001b[43mcache_policy\u001b[49m\u001b[43m=\u001b[49m\u001b[38;5;28;43mself\u001b[39;49m\u001b[43m.\u001b[49m\u001b[43mcache_policy\u001b[49m\u001b[43m,\u001b[49m\n\u001b[32m   2489\u001b[39m \u001b[43m\u001b[49m\u001b[43m)\u001b[49m\u001b[43m \u001b[49m\u001b[38;5;28;43;01mas\u001b[39;49;00m\u001b[43m \u001b[49m\u001b[43mloop\u001b[49m\u001b[43m:\u001b[49m\n\u001b[32m   2490\u001b[39m \u001b[43m    \u001b[49m\u001b[38;5;66;43;03m# create runner\u001b[39;49;00m\n\u001b[32m   2491\u001b[39m \u001b[43m    \u001b[49m\u001b[43mrunner\u001b[49m\u001b[43m \u001b[49m\u001b[43m=\u001b[49m\u001b[43m \u001b[49m\u001b[43mPregelRunner\u001b[49m\u001b[43m(\u001b[49m\n\u001b[32m   2492\u001b[39m \u001b[43m        \u001b[49m\u001b[43msubmit\u001b[49m\u001b[43m=\u001b[49m\u001b[43mconfig\u001b[49m\u001b[43m[\u001b[49m\u001b[43mCONF\u001b[49m\u001b[43m]\u001b[49m\u001b[43m.\u001b[49m\u001b[43mget\u001b[49m\u001b[43m(\u001b[49m\n\u001b[32m   2493\u001b[39m \u001b[43m            \u001b[49m\u001b[43mCONFIG_KEY_RUNNER_SUBMIT\u001b[49m\u001b[43m,\u001b[49m\u001b[43m \u001b[49m\u001b[43mweakref\u001b[49m\u001b[43m.\u001b[49m\u001b[43mWeakMethod\u001b[49m\u001b[43m(\u001b[49m\u001b[43mloop\u001b[49m\u001b[43m.\u001b[49m\u001b[43msubmit\u001b[49m\u001b[43m)\u001b[49m\n\u001b[32m   (...)\u001b[39m\u001b[32m   2496\u001b[39m \u001b[43m        \u001b[49m\u001b[43mnode_finished\u001b[49m\u001b[43m=\u001b[49m\u001b[43mconfig\u001b[49m\u001b[43m[\u001b[49m\u001b[43mCONF\u001b[49m\u001b[43m]\u001b[49m\u001b[43m.\u001b[49m\u001b[43mget\u001b[49m\u001b[43m(\u001b[49m\u001b[43mCONFIG_KEY_NODE_FINISHED\u001b[49m\u001b[43m)\u001b[49m\u001b[43m,\u001b[49m\n\u001b[32m   2497\u001b[39m \u001b[43m    \u001b[49m\u001b[43m)\u001b[49m\n\u001b[32m   2498\u001b[39m \u001b[43m    \u001b[49m\u001b[38;5;66;43;03m# enable subgraph streaming\u001b[39;49;00m\n",
      "\u001b[36mFile \u001b[39m\u001b[32md:\\Agentic Ai\\LangChain_GenAi_LangGraph\\venv\\Lib\\site-packages\\langgraph\\pregel\\loop.py:1040\u001b[39m, in \u001b[36mSyncPregelLoop.__enter__\u001b[39m\u001b[34m(self)\u001b[39m\n\u001b[32m   1038\u001b[39m \u001b[38;5;28mself\u001b[39m.stop = \u001b[38;5;28mself\u001b[39m.step + \u001b[38;5;28mself\u001b[39m.config[\u001b[33m\"\u001b[39m\u001b[33mrecursion_limit\u001b[39m\u001b[33m\"\u001b[39m] + \u001b[32m1\u001b[39m\n\u001b[32m   1039\u001b[39m \u001b[38;5;28mself\u001b[39m.checkpoint_previous_versions = \u001b[38;5;28mself\u001b[39m.checkpoint[\u001b[33m\"\u001b[39m\u001b[33mchannel_versions\u001b[39m\u001b[33m\"\u001b[39m].copy()\n\u001b[32m-> \u001b[39m\u001b[32m1040\u001b[39m \u001b[38;5;28mself\u001b[39m.updated_channels = \u001b[38;5;28;43mself\u001b[39;49m\u001b[43m.\u001b[49m\u001b[43m_first\u001b[49m\u001b[43m(\u001b[49m\u001b[43minput_keys\u001b[49m\u001b[43m=\u001b[49m\u001b[38;5;28;43mself\u001b[39;49m\u001b[43m.\u001b[49m\u001b[43minput_keys\u001b[49m\u001b[43m)\u001b[49m\n\u001b[32m   1042\u001b[39m \u001b[38;5;28;01mreturn\u001b[39;00m \u001b[38;5;28mself\u001b[39m\n",
      "\u001b[36mFile \u001b[39m\u001b[32md:\\Agentic Ai\\LangChain_GenAi_LangGraph\\venv\\Lib\\site-packages\\langgraph\\pregel\\loop.py:667\u001b[39m, in \u001b[36mPregelLoop._first\u001b[39m\u001b[34m(self, input_keys)\u001b[39m\n\u001b[32m    665\u001b[39m     \u001b[38;5;28mself\u001b[39m._put_checkpoint({\u001b[33m\"\u001b[39m\u001b[33msource\u001b[39m\u001b[33m\"\u001b[39m: \u001b[33m\"\u001b[39m\u001b[33minput\u001b[39m\u001b[33m\"\u001b[39m})\n\u001b[32m    666\u001b[39m \u001b[38;5;28;01melif\u001b[39;00m CONFIG_KEY_RESUMING \u001b[38;5;129;01mnot\u001b[39;00m \u001b[38;5;129;01min\u001b[39;00m configurable:\n\u001b[32m--> \u001b[39m\u001b[32m667\u001b[39m     \u001b[38;5;28;01mraise\u001b[39;00m EmptyInputError(\u001b[33mf\u001b[39m\u001b[33m\"\u001b[39m\u001b[33mReceived no input for \u001b[39m\u001b[38;5;132;01m{\u001b[39;00minput_keys\u001b[38;5;132;01m}\u001b[39;00m\u001b[33m\"\u001b[39m)\n\u001b[32m    668\u001b[39m \u001b[38;5;66;03m# update config\u001b[39;00m\n\u001b[32m    669\u001b[39m \u001b[38;5;28;01mif\u001b[39;00m \u001b[38;5;129;01mnot\u001b[39;00m \u001b[38;5;28mself\u001b[39m.is_nested:\n",
      "\u001b[31mEmptyInputError\u001b[39m: Received no input for __start__"
     ]
    }
   ],
   "source": [
    "workflow.invoke(None, {\"configurable\": {\"thread_id\": \"1\", \"checkpoint_id\": \"1f06cc6e-7232-6cb1-8000-f71609e6cec5\"}})"
   ]
  },
  {
   "cell_type": "code",
   "execution_count": 33,
   "id": "cd55cf35",
   "metadata": {},
   "outputs": [
    {
     "data": {
      "text/plain": [
       "[StateSnapshot(values={'topic_of_joke': 'paid education', 'actual_joke': 'Why did the student bring a ladder to paid education? To climb to the top of their class and reach their high-paying future!', 'explanation': 'This joke plays on the double meaning of \"climbing to the top\" in the context of education and career success. By bringing a ladder to paid education, the student is humorously illustrating their determination to excel in school and eventually land a high-paying job. The image of physically climbing up a ladder mirrors the idea of moving up the academic and professional ranks to achieve success.'}, next=(), config={'configurable': {'thread_id': '1', 'checkpoint_ns': '', 'checkpoint_id': '1f07e7ee-5a0d-6faa-8008-73c3d3425512'}}, metadata={'source': 'loop', 'step': 8, 'parents': {}, 'thread_id': '1'}, created_at='2025-08-21T11:06:33.198993+00:00', parent_config={'configurable': {'thread_id': '1', 'checkpoint_ns': '', 'checkpoint_id': '1f07e7ee-4424-6b57-8007-721ec948dc11'}}, tasks=(), interrupts=()),\n",
       " StateSnapshot(values={'topic_of_joke': 'paid education', 'actual_joke': 'Why did the student bring a ladder to paid education? To climb to the top of their class and reach their high-paying future!', 'explanation': 'The joke plays on the idea of a \"high-paying job\" in two different ways. Firstly, the student literally brought a ladder to the seminar because they thought it was a job where they would be working at a high elevation and needed a ladder to reach their work. Secondly, the phrase \"high-paying job\" is commonly used to describe a job that pays well, so the student thought that bringing a ladder would help them secure this high-paying opportunity. Overall, the humor comes from the clever wordplay and the unexpected twist on the concept of a high-paying job.'}, next=('generate_explanation',), config={'configurable': {'thread_id': '1', 'checkpoint_ns': '', 'checkpoint_id': '1f07e7ee-4424-6b57-8007-721ec948dc11'}}, metadata={'source': 'loop', 'step': 7, 'parents': {}, 'thread_id': '1'}, created_at='2025-08-21T11:06:30.901435+00:00', parent_config={'configurable': {'thread_id': '1', 'checkpoint_ns': '', 'checkpoint_id': '1f07e7ee-341c-6047-8006-416581e54640'}}, tasks=(PregelTask(id='eb57c28f-05ce-6517-7230-cbb92a07048f', name='generate_explanation', path=('__pregel_pull', 'generate_explanation'), error=None, interrupts=(), state=None, result={'explanation': 'This joke plays on the double meaning of \"climbing to the top\" in the context of education and career success. By bringing a ladder to paid education, the student is humorously illustrating their determination to excel in school and eventually land a high-paying job. The image of physically climbing up a ladder mirrors the idea of moving up the academic and professional ranks to achieve success.'}),), interrupts=()),\n",
       " StateSnapshot(values={'topic_of_joke': 'paid education', 'actual_joke': 'Why did the student bring a ladder to the paid education seminar? \\nBecause they heard it was a high-paying job opportunity!', 'explanation': 'The joke plays on the idea of a \"high-paying job\" in two different ways. Firstly, the student literally brought a ladder to the seminar because they thought it was a job where they would be working at a high elevation and needed a ladder to reach their work. Secondly, the phrase \"high-paying job\" is commonly used to describe a job that pays well, so the student thought that bringing a ladder would help them secure this high-paying opportunity. Overall, the humor comes from the clever wordplay and the unexpected twist on the concept of a high-paying job.'}, next=('generate_joke',), config={'configurable': {'thread_id': '1', 'checkpoint_ns': '', 'checkpoint_id': '1f07e7ee-341c-6047-8006-416581e54640'}}, metadata={'source': 'loop', 'step': 6, 'parents': {}, 'thread_id': '1'}, created_at='2025-08-21T11:06:29.220154+00:00', parent_config={'configurable': {'thread_id': '1', 'checkpoint_ns': '', 'checkpoint_id': '1f07e7ee-3419-68b8-8005-9025d27995e4'}}, tasks=(PregelTask(id='22fd3cb3-c24e-0505-4f3c-c91f21b50b64', name='generate_joke', path=('__pregel_pull', 'generate_joke'), error=None, interrupts=(), state=None, result={'actual_joke': 'Why did the student bring a ladder to paid education? To climb to the top of their class and reach their high-paying future!'}),), interrupts=()),\n",
       " StateSnapshot(values={'topic_of_joke': 'paid education', 'actual_joke': 'Why did the student bring a ladder to the paid education seminar? \\nBecause they heard it was a high-paying job opportunity!', 'explanation': 'The joke plays on the idea of a \"high-paying job\" in two different ways. Firstly, the student literally brought a ladder to the seminar because they thought it was a job where they would be working at a high elevation and needed a ladder to reach their work. Secondly, the phrase \"high-paying job\" is commonly used to describe a job that pays well, so the student thought that bringing a ladder would help them secure this high-paying opportunity. Overall, the humor comes from the clever wordplay and the unexpected twist on the concept of a high-paying job.'}, next=('__start__',), config={'configurable': {'thread_id': '1', 'checkpoint_ns': '', 'checkpoint_id': '1f07e7ee-3419-68b8-8005-9025d27995e4'}}, metadata={'source': 'input', 'step': 5, 'parents': {}, 'thread_id': '1'}, created_at='2025-08-21T11:06:29.219141+00:00', parent_config={'configurable': {'thread_id': '1', 'checkpoint_ns': '', 'checkpoint_id': '1f07e7c0-a53f-69af-8004-1ea1af46933b'}}, tasks=(PregelTask(id='515883a1-3566-4d4f-6d40-a1e15bada8c9', name='__start__', path=('__pregel_pull', '__start__'), error=None, interrupts=(), state=None, result={'topic_of_joke': 'paid education'}),), interrupts=()),\n",
       " StateSnapshot(values={'topic_of_joke': 'paid education', 'actual_joke': 'Why did the student bring a ladder to the paid education seminar? \\nBecause they heard it was a high-paying job opportunity!', 'explanation': 'The joke plays on the idea of a \"high-paying job\" in two different ways. Firstly, the student literally brought a ladder to the seminar because they thought it was a job where they would be working at a high elevation and needed a ladder to reach their work. Secondly, the phrase \"high-paying job\" is commonly used to describe a job that pays well, so the student thought that bringing a ladder would help them secure this high-paying opportunity. Overall, the humor comes from the clever wordplay and the unexpected twist on the concept of a high-paying job.'}, next=(), config={'configurable': {'thread_id': '1', 'checkpoint_ns': '', 'checkpoint_id': '1f07e7c0-a53f-69af-8004-1ea1af46933b'}}, metadata={'source': 'loop', 'step': 4, 'parents': {}, 'thread_id': '1'}, created_at='2025-08-21T10:46:06.280542+00:00', parent_config={'configurable': {'thread_id': '1', 'checkpoint_ns': '', 'checkpoint_id': '1f07e7c0-8292-6ee9-8003-8c9fcc546429'}}, tasks=(), interrupts=()),\n",
       " StateSnapshot(values={'topic_of_joke': 'paid education', 'actual_joke': 'Why did the student bring a ladder to the paid education seminar? \\nBecause they heard it was a high-paying job opportunity!'}, next=('generate_explanation',), config={'configurable': {'thread_id': '1', 'checkpoint_ns': '', 'checkpoint_id': '1f07e7c0-8292-6ee9-8003-8c9fcc546429'}}, metadata={'source': 'loop', 'step': 3, 'parents': {}, 'thread_id': '1'}, created_at='2025-08-21T10:46:02.644656+00:00', parent_config={'configurable': {'thread_id': '1', 'checkpoint_ns': '', 'checkpoint_id': '1f07e7c0-6a65-6246-8002-37519ea446d1'}}, tasks=(PregelTask(id='a4486fd8-ed10-291a-acdb-4b22ae4fbe19', name='generate_explanation', path=('__pregel_pull', 'generate_explanation'), error=None, interrupts=(), state=None, result={'explanation': 'The joke plays on the idea of a \"high-paying job\" in two different ways. Firstly, the student literally brought a ladder to the seminar because they thought it was a job where they would be working at a high elevation and needed a ladder to reach their work. Secondly, the phrase \"high-paying job\" is commonly used to describe a job that pays well, so the student thought that bringing a ladder would help them secure this high-paying opportunity. Overall, the humor comes from the clever wordplay and the unexpected twist on the concept of a high-paying job.'}),), interrupts=()),\n",
       " StateSnapshot(values={'topic_of_joke': 'paid education'}, next=('generate_joke',), config={'configurable': {'thread_id': '1', 'checkpoint_ns': '', 'checkpoint_id': '1f07e7c0-6a65-6246-8002-37519ea446d1'}}, metadata={'source': 'loop', 'step': 2, 'parents': {}, 'thread_id': '1'}, created_at='2025-08-21T10:46:00.109318+00:00', parent_config={'configurable': {'thread_id': '1', 'checkpoint_ns': '', 'checkpoint_id': '1f07e7c0-6a65-6245-8001-e8ef7e75f824'}}, tasks=(PregelTask(id='af022a7e-034a-e184-0b3f-dfd66ddb4965', name='generate_joke', path=('__pregel_pull', 'generate_joke'), error=None, interrupts=(), state=None, result={'actual_joke': 'Why did the student bring a ladder to the paid education seminar? \\nBecause they heard it was a high-paying job opportunity!'}),), interrupts=()),\n",
       " StateSnapshot(values={}, next=('__start__',), config={'configurable': {'thread_id': '1', 'checkpoint_ns': '', 'checkpoint_id': '1f07e7c0-6a65-6245-8001-e8ef7e75f824'}}, metadata={'source': 'input', 'step': 1, 'parents': {}, 'thread_id': '1'}, created_at='2025-08-21T10:46:00.109318+00:00', parent_config={'configurable': {'thread_id': '1', 'checkpoint_ns': '', 'checkpoint_id': '1f07e7be-b446-6b6b-8000-b3794ef83222'}}, tasks=(PregelTask(id='fb88d26b-df0d-7615-287f-37cabbda2772', name='__start__', path=('__pregel_pull', '__start__'), error=None, interrupts=(), state=None, result={'topic_of_joke': 'paid education'}),), interrupts=()),\n",
       " StateSnapshot(values={}, next=('generate_joke',), config={'configurable': {'thread_id': '1', 'checkpoint_ns': '', 'checkpoint_id': '1f07e7be-b446-6b6b-8000-b3794ef83222'}}, metadata={'source': 'loop', 'step': 0, 'parents': {}, 'thread_id': '1'}, created_at='2025-08-21T10:45:14.169226+00:00', parent_config={'configurable': {'thread_id': '1', 'checkpoint_ns': '', 'checkpoint_id': '1f07e7be-b444-6468-bfff-703b001aa9d8'}}, tasks=(PregelTask(id='ab271ba6-44d6-9563-43ea-2f0b65970cbf', name='generate_joke', path=('__pregel_pull', 'generate_joke'), error=\"KeyError('topic_of_joke')\", interrupts=(), state=None, result=None),), interrupts=()),\n",
       " StateSnapshot(values={}, next=('__start__',), config={'configurable': {'thread_id': '1', 'checkpoint_ns': '', 'checkpoint_id': '1f07e7be-b444-6468-bfff-703b001aa9d8'}}, metadata={'source': 'input', 'step': -1, 'parents': {}, 'thread_id': '1'}, created_at='2025-08-21T10:45:14.168227+00:00', parent_config=None, tasks=(PregelTask(id='0d08fc3f-10d3-03a1-d6c3-8e0920134f44', name='__start__', path=('__pregel_pull', '__start__'), error=None, interrupts=(), state=None, result={}),), interrupts=())]"
      ]
     },
     "execution_count": 33,
     "metadata": {},
     "output_type": "execute_result"
    }
   ],
   "source": [
    "list(workflow.get_state_history(config1))"
   ]
  },
  {
   "cell_type": "markdown",
   "id": "ab1b895e",
   "metadata": {},
   "source": [
    "#### Updating State"
   ]
  },
  {
   "cell_type": "code",
   "execution_count": 34,
   "id": "19378d86",
   "metadata": {},
   "outputs": [
    {
     "data": {
      "text/plain": [
       "{'configurable': {'thread_id': '1',\n",
       "  'checkpoint_ns': '',\n",
       "  'checkpoint_id': '1f07e7f4-9ee9-6bfa-8000-7a30ac981df3'}}"
      ]
     },
     "execution_count": 34,
     "metadata": {},
     "output_type": "execute_result"
    }
   ],
   "source": [
    "workflow.update_state({\"configurable\": {\"thread_id\": \"1\", \"checkpoint_id\": \"1f06cc6e-7232-6cb1-8000-f71609e6cec5\", \"checkpoint_ns\": \"\"}}, {'topic':'samosa'})"
   ]
  },
  {
   "cell_type": "code",
   "execution_count": 35,
   "id": "7c486bff",
   "metadata": {},
   "outputs": [
    {
     "data": {
      "text/plain": [
       "[StateSnapshot(values={}, next=('generate_joke',), config={'configurable': {'thread_id': '1', 'checkpoint_ns': '', 'checkpoint_id': '1f07e7f4-9ee9-6bfa-8000-7a30ac981df3'}}, metadata={'source': 'update', 'step': 0, 'parents': {}, 'thread_id': '1'}, created_at='2025-08-21T11:09:21.480601+00:00', parent_config={'configurable': {'thread_id': '1', 'checkpoint_ns': '', 'checkpoint_id': '1f06cc6e-7232-6cb1-8000-f71609e6cec5'}}, tasks=(PregelTask(id='0d6e0d3b-0f3c-4ae1-8654-e949524f0ca3', name='generate_joke', path=('__pregel_pull', 'generate_joke'), error=None, interrupts=(), state=None, result=None),), interrupts=()),\n",
       " StateSnapshot(values={'topic_of_joke': 'paid education', 'actual_joke': 'Why did the student bring a ladder to paid education? To climb to the top of their class and reach their high-paying future!', 'explanation': 'This joke plays on the double meaning of \"climbing to the top\" in the context of education and career success. By bringing a ladder to paid education, the student is humorously illustrating their determination to excel in school and eventually land a high-paying job. The image of physically climbing up a ladder mirrors the idea of moving up the academic and professional ranks to achieve success.'}, next=(), config={'configurable': {'thread_id': '1', 'checkpoint_ns': '', 'checkpoint_id': '1f07e7ee-5a0d-6faa-8008-73c3d3425512'}}, metadata={'source': 'loop', 'step': 8, 'parents': {}, 'thread_id': '1'}, created_at='2025-08-21T11:06:33.198993+00:00', parent_config={'configurable': {'thread_id': '1', 'checkpoint_ns': '', 'checkpoint_id': '1f07e7ee-4424-6b57-8007-721ec948dc11'}}, tasks=(), interrupts=()),\n",
       " StateSnapshot(values={'topic_of_joke': 'paid education', 'actual_joke': 'Why did the student bring a ladder to paid education? To climb to the top of their class and reach their high-paying future!', 'explanation': 'The joke plays on the idea of a \"high-paying job\" in two different ways. Firstly, the student literally brought a ladder to the seminar because they thought it was a job where they would be working at a high elevation and needed a ladder to reach their work. Secondly, the phrase \"high-paying job\" is commonly used to describe a job that pays well, so the student thought that bringing a ladder would help them secure this high-paying opportunity. Overall, the humor comes from the clever wordplay and the unexpected twist on the concept of a high-paying job.'}, next=('generate_explanation',), config={'configurable': {'thread_id': '1', 'checkpoint_ns': '', 'checkpoint_id': '1f07e7ee-4424-6b57-8007-721ec948dc11'}}, metadata={'source': 'loop', 'step': 7, 'parents': {}, 'thread_id': '1'}, created_at='2025-08-21T11:06:30.901435+00:00', parent_config={'configurable': {'thread_id': '1', 'checkpoint_ns': '', 'checkpoint_id': '1f07e7ee-341c-6047-8006-416581e54640'}}, tasks=(PregelTask(id='eb57c28f-05ce-6517-7230-cbb92a07048f', name='generate_explanation', path=('__pregel_pull', 'generate_explanation'), error=None, interrupts=(), state=None, result={'explanation': 'This joke plays on the double meaning of \"climbing to the top\" in the context of education and career success. By bringing a ladder to paid education, the student is humorously illustrating their determination to excel in school and eventually land a high-paying job. The image of physically climbing up a ladder mirrors the idea of moving up the academic and professional ranks to achieve success.'}),), interrupts=()),\n",
       " StateSnapshot(values={'topic_of_joke': 'paid education', 'actual_joke': 'Why did the student bring a ladder to the paid education seminar? \\nBecause they heard it was a high-paying job opportunity!', 'explanation': 'The joke plays on the idea of a \"high-paying job\" in two different ways. Firstly, the student literally brought a ladder to the seminar because they thought it was a job where they would be working at a high elevation and needed a ladder to reach their work. Secondly, the phrase \"high-paying job\" is commonly used to describe a job that pays well, so the student thought that bringing a ladder would help them secure this high-paying opportunity. Overall, the humor comes from the clever wordplay and the unexpected twist on the concept of a high-paying job.'}, next=('generate_joke',), config={'configurable': {'thread_id': '1', 'checkpoint_ns': '', 'checkpoint_id': '1f07e7ee-341c-6047-8006-416581e54640'}}, metadata={'source': 'loop', 'step': 6, 'parents': {}, 'thread_id': '1'}, created_at='2025-08-21T11:06:29.220154+00:00', parent_config={'configurable': {'thread_id': '1', 'checkpoint_ns': '', 'checkpoint_id': '1f07e7ee-3419-68b8-8005-9025d27995e4'}}, tasks=(PregelTask(id='22fd3cb3-c24e-0505-4f3c-c91f21b50b64', name='generate_joke', path=('__pregel_pull', 'generate_joke'), error=None, interrupts=(), state=None, result={'actual_joke': 'Why did the student bring a ladder to paid education? To climb to the top of their class and reach their high-paying future!'}),), interrupts=()),\n",
       " StateSnapshot(values={'topic_of_joke': 'paid education', 'actual_joke': 'Why did the student bring a ladder to the paid education seminar? \\nBecause they heard it was a high-paying job opportunity!', 'explanation': 'The joke plays on the idea of a \"high-paying job\" in two different ways. Firstly, the student literally brought a ladder to the seminar because they thought it was a job where they would be working at a high elevation and needed a ladder to reach their work. Secondly, the phrase \"high-paying job\" is commonly used to describe a job that pays well, so the student thought that bringing a ladder would help them secure this high-paying opportunity. Overall, the humor comes from the clever wordplay and the unexpected twist on the concept of a high-paying job.'}, next=('__start__',), config={'configurable': {'thread_id': '1', 'checkpoint_ns': '', 'checkpoint_id': '1f07e7ee-3419-68b8-8005-9025d27995e4'}}, metadata={'source': 'input', 'step': 5, 'parents': {}, 'thread_id': '1'}, created_at='2025-08-21T11:06:29.219141+00:00', parent_config={'configurable': {'thread_id': '1', 'checkpoint_ns': '', 'checkpoint_id': '1f07e7c0-a53f-69af-8004-1ea1af46933b'}}, tasks=(PregelTask(id='515883a1-3566-4d4f-6d40-a1e15bada8c9', name='__start__', path=('__pregel_pull', '__start__'), error=None, interrupts=(), state=None, result={'topic_of_joke': 'paid education'}),), interrupts=()),\n",
       " StateSnapshot(values={'topic_of_joke': 'paid education', 'actual_joke': 'Why did the student bring a ladder to the paid education seminar? \\nBecause they heard it was a high-paying job opportunity!', 'explanation': 'The joke plays on the idea of a \"high-paying job\" in two different ways. Firstly, the student literally brought a ladder to the seminar because they thought it was a job where they would be working at a high elevation and needed a ladder to reach their work. Secondly, the phrase \"high-paying job\" is commonly used to describe a job that pays well, so the student thought that bringing a ladder would help them secure this high-paying opportunity. Overall, the humor comes from the clever wordplay and the unexpected twist on the concept of a high-paying job.'}, next=(), config={'configurable': {'thread_id': '1', 'checkpoint_ns': '', 'checkpoint_id': '1f07e7c0-a53f-69af-8004-1ea1af46933b'}}, metadata={'source': 'loop', 'step': 4, 'parents': {}, 'thread_id': '1'}, created_at='2025-08-21T10:46:06.280542+00:00', parent_config={'configurable': {'thread_id': '1', 'checkpoint_ns': '', 'checkpoint_id': '1f07e7c0-8292-6ee9-8003-8c9fcc546429'}}, tasks=(), interrupts=()),\n",
       " StateSnapshot(values={'topic_of_joke': 'paid education', 'actual_joke': 'Why did the student bring a ladder to the paid education seminar? \\nBecause they heard it was a high-paying job opportunity!'}, next=('generate_explanation',), config={'configurable': {'thread_id': '1', 'checkpoint_ns': '', 'checkpoint_id': '1f07e7c0-8292-6ee9-8003-8c9fcc546429'}}, metadata={'source': 'loop', 'step': 3, 'parents': {}, 'thread_id': '1'}, created_at='2025-08-21T10:46:02.644656+00:00', parent_config={'configurable': {'thread_id': '1', 'checkpoint_ns': '', 'checkpoint_id': '1f07e7c0-6a65-6246-8002-37519ea446d1'}}, tasks=(PregelTask(id='a4486fd8-ed10-291a-acdb-4b22ae4fbe19', name='generate_explanation', path=('__pregel_pull', 'generate_explanation'), error=None, interrupts=(), state=None, result={'explanation': 'The joke plays on the idea of a \"high-paying job\" in two different ways. Firstly, the student literally brought a ladder to the seminar because they thought it was a job where they would be working at a high elevation and needed a ladder to reach their work. Secondly, the phrase \"high-paying job\" is commonly used to describe a job that pays well, so the student thought that bringing a ladder would help them secure this high-paying opportunity. Overall, the humor comes from the clever wordplay and the unexpected twist on the concept of a high-paying job.'}),), interrupts=()),\n",
       " StateSnapshot(values={'topic_of_joke': 'paid education'}, next=('generate_joke',), config={'configurable': {'thread_id': '1', 'checkpoint_ns': '', 'checkpoint_id': '1f07e7c0-6a65-6246-8002-37519ea446d1'}}, metadata={'source': 'loop', 'step': 2, 'parents': {}, 'thread_id': '1'}, created_at='2025-08-21T10:46:00.109318+00:00', parent_config={'configurable': {'thread_id': '1', 'checkpoint_ns': '', 'checkpoint_id': '1f07e7c0-6a65-6245-8001-e8ef7e75f824'}}, tasks=(PregelTask(id='af022a7e-034a-e184-0b3f-dfd66ddb4965', name='generate_joke', path=('__pregel_pull', 'generate_joke'), error=None, interrupts=(), state=None, result={'actual_joke': 'Why did the student bring a ladder to the paid education seminar? \\nBecause they heard it was a high-paying job opportunity!'}),), interrupts=()),\n",
       " StateSnapshot(values={}, next=('__start__',), config={'configurable': {'thread_id': '1', 'checkpoint_ns': '', 'checkpoint_id': '1f07e7c0-6a65-6245-8001-e8ef7e75f824'}}, metadata={'source': 'input', 'step': 1, 'parents': {}, 'thread_id': '1'}, created_at='2025-08-21T10:46:00.109318+00:00', parent_config={'configurable': {'thread_id': '1', 'checkpoint_ns': '', 'checkpoint_id': '1f07e7be-b446-6b6b-8000-b3794ef83222'}}, tasks=(PregelTask(id='fb88d26b-df0d-7615-287f-37cabbda2772', name='__start__', path=('__pregel_pull', '__start__'), error=None, interrupts=(), state=None, result={'topic_of_joke': 'paid education'}),), interrupts=()),\n",
       " StateSnapshot(values={}, next=('generate_joke',), config={'configurable': {'thread_id': '1', 'checkpoint_ns': '', 'checkpoint_id': '1f07e7be-b446-6b6b-8000-b3794ef83222'}}, metadata={'source': 'loop', 'step': 0, 'parents': {}, 'thread_id': '1'}, created_at='2025-08-21T10:45:14.169226+00:00', parent_config={'configurable': {'thread_id': '1', 'checkpoint_ns': '', 'checkpoint_id': '1f07e7be-b444-6468-bfff-703b001aa9d8'}}, tasks=(PregelTask(id='ab271ba6-44d6-9563-43ea-2f0b65970cbf', name='generate_joke', path=('__pregel_pull', 'generate_joke'), error=\"KeyError('topic_of_joke')\", interrupts=(), state=None, result=None),), interrupts=()),\n",
       " StateSnapshot(values={}, next=('__start__',), config={'configurable': {'thread_id': '1', 'checkpoint_ns': '', 'checkpoint_id': '1f07e7be-b444-6468-bfff-703b001aa9d8'}}, metadata={'source': 'input', 'step': -1, 'parents': {}, 'thread_id': '1'}, created_at='2025-08-21T10:45:14.168227+00:00', parent_config=None, tasks=(PregelTask(id='0d08fc3f-10d3-03a1-d6c3-8e0920134f44', name='__start__', path=('__pregel_pull', '__start__'), error=None, interrupts=(), state=None, result={}),), interrupts=())]"
      ]
     },
     "execution_count": 35,
     "metadata": {},
     "output_type": "execute_result"
    }
   ],
   "source": [
    "list(workflow.get_state_history(config1))"
   ]
  },
  {
   "cell_type": "code",
   "execution_count": 36,
   "id": "58f63a80",
   "metadata": {},
   "outputs": [
    {
     "ename": "EmptyInputError",
     "evalue": "Received no input for __start__",
     "output_type": "error",
     "traceback": [
      "\u001b[31m---------------------------------------------------------------------------\u001b[39m",
      "\u001b[31mEmptyInputError\u001b[39m                           Traceback (most recent call last)",
      "\u001b[36mCell\u001b[39m\u001b[36m \u001b[39m\u001b[32mIn[36]\u001b[39m\u001b[32m, line 1\u001b[39m\n\u001b[32m----> \u001b[39m\u001b[32m1\u001b[39m \u001b[43mworkflow\u001b[49m\u001b[43m.\u001b[49m\u001b[43minvoke\u001b[49m\u001b[43m(\u001b[49m\u001b[38;5;28;43;01mNone\u001b[39;49;00m\u001b[43m,\u001b[49m\u001b[43m \u001b[49m\u001b[43m{\u001b[49m\u001b[33;43m\"\u001b[39;49m\u001b[33;43mconfigurable\u001b[39;49m\u001b[33;43m\"\u001b[39;49m\u001b[43m:\u001b[49m\u001b[43m \u001b[49m\u001b[43m{\u001b[49m\u001b[33;43m\"\u001b[39;49m\u001b[33;43mthread_id\u001b[39;49m\u001b[33;43m\"\u001b[39;49m\u001b[43m:\u001b[49m\u001b[43m \u001b[49m\u001b[33;43m\"\u001b[39;49m\u001b[33;43m1\u001b[39;49m\u001b[33;43m\"\u001b[39;49m\u001b[43m,\u001b[49m\u001b[43m \u001b[49m\u001b[33;43m\"\u001b[39;49m\u001b[33;43mcheckpoint_id\u001b[39;49m\u001b[33;43m\"\u001b[39;49m\u001b[43m:\u001b[49m\u001b[43m \u001b[49m\u001b[33;43m\"\u001b[39;49m\u001b[33;43m1f06cc72-ca16-6359-8001-7eea05e07dd2\u001b[39;49m\u001b[33;43m\"\u001b[39;49m\u001b[43m}\u001b[49m\u001b[43m}\u001b[49m\u001b[43m)\u001b[49m\n",
      "\u001b[36mFile \u001b[39m\u001b[32md:\\Agentic Ai\\LangChain_GenAi_LangGraph\\venv\\Lib\\site-packages\\langgraph\\pregel\\__init__.py:2844\u001b[39m, in \u001b[36mPregel.invoke\u001b[39m\u001b[34m(self, input, config, stream_mode, print_mode, output_keys, interrupt_before, interrupt_after, **kwargs)\u001b[39m\n\u001b[32m   2841\u001b[39m chunks: \u001b[38;5;28mlist\u001b[39m[\u001b[38;5;28mdict\u001b[39m[\u001b[38;5;28mstr\u001b[39m, Any] | Any] = []\n\u001b[32m   2842\u001b[39m interrupts: \u001b[38;5;28mlist\u001b[39m[Interrupt] = []\n\u001b[32m-> \u001b[39m\u001b[32m2844\u001b[39m \u001b[43m\u001b[49m\u001b[38;5;28;43;01mfor\u001b[39;49;00m\u001b[43m \u001b[49m\u001b[43mchunk\u001b[49m\u001b[43m \u001b[49m\u001b[38;5;129;43;01min\u001b[39;49;00m\u001b[43m \u001b[49m\u001b[38;5;28;43mself\u001b[39;49m\u001b[43m.\u001b[49m\u001b[43mstream\u001b[49m\u001b[43m(\u001b[49m\n\u001b[32m   2845\u001b[39m \u001b[43m    \u001b[49m\u001b[38;5;28;43minput\u001b[39;49m\u001b[43m,\u001b[49m\n\u001b[32m   2846\u001b[39m \u001b[43m    \u001b[49m\u001b[43mconfig\u001b[49m\u001b[43m,\u001b[49m\n\u001b[32m   2847\u001b[39m \u001b[43m    \u001b[49m\u001b[43mstream_mode\u001b[49m\u001b[43m=\u001b[49m\u001b[43m[\u001b[49m\u001b[33;43m\"\u001b[39;49m\u001b[33;43mupdates\u001b[39;49m\u001b[33;43m\"\u001b[39;49m\u001b[43m,\u001b[49m\u001b[43m \u001b[49m\u001b[33;43m\"\u001b[39;49m\u001b[33;43mvalues\u001b[39;49m\u001b[33;43m\"\u001b[39;49m\u001b[43m]\u001b[49m\n\u001b[32m   2848\u001b[39m \u001b[43m    \u001b[49m\u001b[38;5;28;43;01mif\u001b[39;49;00m\u001b[43m \u001b[49m\u001b[43mstream_mode\u001b[49m\u001b[43m \u001b[49m\u001b[43m==\u001b[49m\u001b[43m \u001b[49m\u001b[33;43m\"\u001b[39;49m\u001b[33;43mvalues\u001b[39;49m\u001b[33;43m\"\u001b[39;49m\n\u001b[32m   2849\u001b[39m \u001b[43m    \u001b[49m\u001b[38;5;28;43;01melse\u001b[39;49;00m\u001b[43m \u001b[49m\u001b[43mstream_mode\u001b[49m\u001b[43m,\u001b[49m\n\u001b[32m   2850\u001b[39m \u001b[43m    \u001b[49m\u001b[43mprint_mode\u001b[49m\u001b[43m=\u001b[49m\u001b[43mprint_mode\u001b[49m\u001b[43m,\u001b[49m\n\u001b[32m   2851\u001b[39m \u001b[43m    \u001b[49m\u001b[43moutput_keys\u001b[49m\u001b[43m=\u001b[49m\u001b[43moutput_keys\u001b[49m\u001b[43m,\u001b[49m\n\u001b[32m   2852\u001b[39m \u001b[43m    \u001b[49m\u001b[43minterrupt_before\u001b[49m\u001b[43m=\u001b[49m\u001b[43minterrupt_before\u001b[49m\u001b[43m,\u001b[49m\n\u001b[32m   2853\u001b[39m \u001b[43m    \u001b[49m\u001b[43minterrupt_after\u001b[49m\u001b[43m=\u001b[49m\u001b[43minterrupt_after\u001b[49m\u001b[43m,\u001b[49m\n\u001b[32m   2854\u001b[39m \u001b[43m    \u001b[49m\u001b[43m*\u001b[49m\u001b[43m*\u001b[49m\u001b[43mkwargs\u001b[49m\u001b[43m,\u001b[49m\n\u001b[32m   2855\u001b[39m \u001b[43m\u001b[49m\u001b[43m)\u001b[49m\u001b[43m:\u001b[49m\n\u001b[32m   2856\u001b[39m \u001b[43m    \u001b[49m\u001b[38;5;28;43;01mif\u001b[39;49;00m\u001b[43m \u001b[49m\u001b[43mstream_mode\u001b[49m\u001b[43m \u001b[49m\u001b[43m==\u001b[49m\u001b[43m \u001b[49m\u001b[33;43m\"\u001b[39;49m\u001b[33;43mvalues\u001b[39;49m\u001b[33;43m\"\u001b[39;49m\u001b[43m:\u001b[49m\n\u001b[32m   2857\u001b[39m \u001b[43m        \u001b[49m\u001b[38;5;28;43;01mif\u001b[39;49;00m\u001b[43m \u001b[49m\u001b[38;5;28;43mlen\u001b[39;49m\u001b[43m(\u001b[49m\u001b[43mchunk\u001b[49m\u001b[43m)\u001b[49m\u001b[43m \u001b[49m\u001b[43m==\u001b[49m\u001b[43m \u001b[49m\u001b[32;43m2\u001b[39;49m\u001b[43m:\u001b[49m\n",
      "\u001b[36mFile \u001b[39m\u001b[32md:\\Agentic Ai\\LangChain_GenAi_LangGraph\\venv\\Lib\\site-packages\\langgraph\\pregel\\__init__.py:2467\u001b[39m, in \u001b[36mPregel.stream\u001b[39m\u001b[34m(self, input, config, stream_mode, print_mode, output_keys, interrupt_before, interrupt_after, checkpoint_during, debug, subgraphs)\u001b[39m\n\u001b[32m   2465\u001b[39m \u001b[38;5;28;01mif\u001b[39;00m checkpoint_during \u001b[38;5;129;01mis\u001b[39;00m \u001b[38;5;129;01mnot\u001b[39;00m \u001b[38;5;28;01mNone\u001b[39;00m:\n\u001b[32m   2466\u001b[39m     config[CONF][CONFIG_KEY_CHECKPOINT_DURING] = checkpoint_during\n\u001b[32m-> \u001b[39m\u001b[32m2467\u001b[39m \u001b[43m\u001b[49m\u001b[38;5;28;43;01mwith\u001b[39;49;00m\u001b[43m \u001b[49m\u001b[43mSyncPregelLoop\u001b[49m\u001b[43m(\u001b[49m\n\u001b[32m   2468\u001b[39m \u001b[43m    \u001b[49m\u001b[38;5;28;43minput\u001b[39;49m\u001b[43m,\u001b[49m\n\u001b[32m   2469\u001b[39m \u001b[43m    \u001b[49m\u001b[43mstream\u001b[49m\u001b[43m=\u001b[49m\u001b[43mStreamProtocol\u001b[49m\u001b[43m(\u001b[49m\u001b[43mstream\u001b[49m\u001b[43m.\u001b[49m\u001b[43mput\u001b[49m\u001b[43m,\u001b[49m\u001b[43m \u001b[49m\u001b[43mstream_modes\u001b[49m\u001b[43m)\u001b[49m\u001b[43m,\u001b[49m\n\u001b[32m   2470\u001b[39m \u001b[43m    \u001b[49m\u001b[43mconfig\u001b[49m\u001b[43m=\u001b[49m\u001b[43mconfig\u001b[49m\u001b[43m,\u001b[49m\n\u001b[32m   2471\u001b[39m \u001b[43m    \u001b[49m\u001b[43mstore\u001b[49m\u001b[43m=\u001b[49m\u001b[43mstore\u001b[49m\u001b[43m,\u001b[49m\n\u001b[32m   2472\u001b[39m \u001b[43m    \u001b[49m\u001b[43mcache\u001b[49m\u001b[43m=\u001b[49m\u001b[43mcache\u001b[49m\u001b[43m,\u001b[49m\n\u001b[32m   2473\u001b[39m \u001b[43m    \u001b[49m\u001b[43mcheckpointer\u001b[49m\u001b[43m=\u001b[49m\u001b[43mcheckpointer\u001b[49m\u001b[43m,\u001b[49m\n\u001b[32m   2474\u001b[39m \u001b[43m    \u001b[49m\u001b[43mnodes\u001b[49m\u001b[43m=\u001b[49m\u001b[38;5;28;43mself\u001b[39;49m\u001b[43m.\u001b[49m\u001b[43mnodes\u001b[49m\u001b[43m,\u001b[49m\n\u001b[32m   2475\u001b[39m \u001b[43m    \u001b[49m\u001b[43mspecs\u001b[49m\u001b[43m=\u001b[49m\u001b[38;5;28;43mself\u001b[39;49m\u001b[43m.\u001b[49m\u001b[43mchannels\u001b[49m\u001b[43m,\u001b[49m\n\u001b[32m   2476\u001b[39m \u001b[43m    \u001b[49m\u001b[43moutput_keys\u001b[49m\u001b[43m=\u001b[49m\u001b[43moutput_keys\u001b[49m\u001b[43m,\u001b[49m\n\u001b[32m   2477\u001b[39m \u001b[43m    \u001b[49m\u001b[43minput_keys\u001b[49m\u001b[43m=\u001b[49m\u001b[38;5;28;43mself\u001b[39;49m\u001b[43m.\u001b[49m\u001b[43minput_channels\u001b[49m\u001b[43m,\u001b[49m\n\u001b[32m   2478\u001b[39m \u001b[43m    \u001b[49m\u001b[43mstream_keys\u001b[49m\u001b[43m=\u001b[49m\u001b[38;5;28;43mself\u001b[39;49m\u001b[43m.\u001b[49m\u001b[43mstream_channels_asis\u001b[49m\u001b[43m,\u001b[49m\n\u001b[32m   2479\u001b[39m \u001b[43m    \u001b[49m\u001b[43minterrupt_before\u001b[49m\u001b[43m=\u001b[49m\u001b[43minterrupt_before_\u001b[49m\u001b[43m,\u001b[49m\n\u001b[32m   2480\u001b[39m \u001b[43m    \u001b[49m\u001b[43minterrupt_after\u001b[49m\u001b[43m=\u001b[49m\u001b[43minterrupt_after_\u001b[49m\u001b[43m,\u001b[49m\n\u001b[32m   2481\u001b[39m \u001b[43m    \u001b[49m\u001b[43mmanager\u001b[49m\u001b[43m=\u001b[49m\u001b[43mrun_manager\u001b[49m\u001b[43m,\u001b[49m\n\u001b[32m   2482\u001b[39m \u001b[43m    \u001b[49m\u001b[43mcheckpoint_during\u001b[49m\u001b[43m=\u001b[49m\u001b[43mcheckpoint_during\u001b[49m\n\u001b[32m   2483\u001b[39m \u001b[43m    \u001b[49m\u001b[38;5;28;43;01mif\u001b[39;49;00m\u001b[43m \u001b[49m\u001b[43mcheckpoint_during\u001b[49m\u001b[43m \u001b[49m\u001b[38;5;129;43;01mis\u001b[39;49;00m\u001b[43m \u001b[49m\u001b[38;5;129;43;01mnot\u001b[39;49;00m\u001b[43m \u001b[49m\u001b[38;5;28;43;01mNone\u001b[39;49;00m\n\u001b[32m   2484\u001b[39m \u001b[43m    \u001b[49m\u001b[38;5;28;43;01melse\u001b[39;49;00m\u001b[43m \u001b[49m\u001b[43mconfig\u001b[49m\u001b[43m[\u001b[49m\u001b[43mCONF\u001b[49m\u001b[43m]\u001b[49m\u001b[43m.\u001b[49m\u001b[43mget\u001b[49m\u001b[43m(\u001b[49m\u001b[43mCONFIG_KEY_CHECKPOINT_DURING\u001b[49m\u001b[43m,\u001b[49m\u001b[43m \u001b[49m\u001b[38;5;28;43;01mTrue\u001b[39;49;00m\u001b[43m)\u001b[49m\u001b[43m,\u001b[49m\n\u001b[32m   2485\u001b[39m \u001b[43m    \u001b[49m\u001b[43mtrigger_to_nodes\u001b[49m\u001b[43m=\u001b[49m\u001b[38;5;28;43mself\u001b[39;49m\u001b[43m.\u001b[49m\u001b[43mtrigger_to_nodes\u001b[49m\u001b[43m,\u001b[49m\n\u001b[32m   2486\u001b[39m \u001b[43m    \u001b[49m\u001b[43mmigrate_checkpoint\u001b[49m\u001b[43m=\u001b[49m\u001b[38;5;28;43mself\u001b[39;49m\u001b[43m.\u001b[49m\u001b[43m_migrate_checkpoint\u001b[49m\u001b[43m,\u001b[49m\n\u001b[32m   2487\u001b[39m \u001b[43m    \u001b[49m\u001b[43mretry_policy\u001b[49m\u001b[43m=\u001b[49m\u001b[38;5;28;43mself\u001b[39;49m\u001b[43m.\u001b[49m\u001b[43mretry_policy\u001b[49m\u001b[43m,\u001b[49m\n\u001b[32m   2488\u001b[39m \u001b[43m    \u001b[49m\u001b[43mcache_policy\u001b[49m\u001b[43m=\u001b[49m\u001b[38;5;28;43mself\u001b[39;49m\u001b[43m.\u001b[49m\u001b[43mcache_policy\u001b[49m\u001b[43m,\u001b[49m\n\u001b[32m   2489\u001b[39m \u001b[43m\u001b[49m\u001b[43m)\u001b[49m\u001b[43m \u001b[49m\u001b[38;5;28;43;01mas\u001b[39;49;00m\u001b[43m \u001b[49m\u001b[43mloop\u001b[49m\u001b[43m:\u001b[49m\n\u001b[32m   2490\u001b[39m \u001b[43m    \u001b[49m\u001b[38;5;66;43;03m# create runner\u001b[39;49;00m\n\u001b[32m   2491\u001b[39m \u001b[43m    \u001b[49m\u001b[43mrunner\u001b[49m\u001b[43m \u001b[49m\u001b[43m=\u001b[49m\u001b[43m \u001b[49m\u001b[43mPregelRunner\u001b[49m\u001b[43m(\u001b[49m\n\u001b[32m   2492\u001b[39m \u001b[43m        \u001b[49m\u001b[43msubmit\u001b[49m\u001b[43m=\u001b[49m\u001b[43mconfig\u001b[49m\u001b[43m[\u001b[49m\u001b[43mCONF\u001b[49m\u001b[43m]\u001b[49m\u001b[43m.\u001b[49m\u001b[43mget\u001b[49m\u001b[43m(\u001b[49m\n\u001b[32m   2493\u001b[39m \u001b[43m            \u001b[49m\u001b[43mCONFIG_KEY_RUNNER_SUBMIT\u001b[49m\u001b[43m,\u001b[49m\u001b[43m \u001b[49m\u001b[43mweakref\u001b[49m\u001b[43m.\u001b[49m\u001b[43mWeakMethod\u001b[49m\u001b[43m(\u001b[49m\u001b[43mloop\u001b[49m\u001b[43m.\u001b[49m\u001b[43msubmit\u001b[49m\u001b[43m)\u001b[49m\n\u001b[32m   (...)\u001b[39m\u001b[32m   2496\u001b[39m \u001b[43m        \u001b[49m\u001b[43mnode_finished\u001b[49m\u001b[43m=\u001b[49m\u001b[43mconfig\u001b[49m\u001b[43m[\u001b[49m\u001b[43mCONF\u001b[49m\u001b[43m]\u001b[49m\u001b[43m.\u001b[49m\u001b[43mget\u001b[49m\u001b[43m(\u001b[49m\u001b[43mCONFIG_KEY_NODE_FINISHED\u001b[49m\u001b[43m)\u001b[49m\u001b[43m,\u001b[49m\n\u001b[32m   2497\u001b[39m \u001b[43m    \u001b[49m\u001b[43m)\u001b[49m\n\u001b[32m   2498\u001b[39m \u001b[43m    \u001b[49m\u001b[38;5;66;43;03m# enable subgraph streaming\u001b[39;49;00m\n",
      "\u001b[36mFile \u001b[39m\u001b[32md:\\Agentic Ai\\LangChain_GenAi_LangGraph\\venv\\Lib\\site-packages\\langgraph\\pregel\\loop.py:1040\u001b[39m, in \u001b[36mSyncPregelLoop.__enter__\u001b[39m\u001b[34m(self)\u001b[39m\n\u001b[32m   1038\u001b[39m \u001b[38;5;28mself\u001b[39m.stop = \u001b[38;5;28mself\u001b[39m.step + \u001b[38;5;28mself\u001b[39m.config[\u001b[33m\"\u001b[39m\u001b[33mrecursion_limit\u001b[39m\u001b[33m\"\u001b[39m] + \u001b[32m1\u001b[39m\n\u001b[32m   1039\u001b[39m \u001b[38;5;28mself\u001b[39m.checkpoint_previous_versions = \u001b[38;5;28mself\u001b[39m.checkpoint[\u001b[33m\"\u001b[39m\u001b[33mchannel_versions\u001b[39m\u001b[33m\"\u001b[39m].copy()\n\u001b[32m-> \u001b[39m\u001b[32m1040\u001b[39m \u001b[38;5;28mself\u001b[39m.updated_channels = \u001b[38;5;28;43mself\u001b[39;49m\u001b[43m.\u001b[49m\u001b[43m_first\u001b[49m\u001b[43m(\u001b[49m\u001b[43minput_keys\u001b[49m\u001b[43m=\u001b[49m\u001b[38;5;28;43mself\u001b[39;49m\u001b[43m.\u001b[49m\u001b[43minput_keys\u001b[49m\u001b[43m)\u001b[49m\n\u001b[32m   1042\u001b[39m \u001b[38;5;28;01mreturn\u001b[39;00m \u001b[38;5;28mself\u001b[39m\n",
      "\u001b[36mFile \u001b[39m\u001b[32md:\\Agentic Ai\\LangChain_GenAi_LangGraph\\venv\\Lib\\site-packages\\langgraph\\pregel\\loop.py:667\u001b[39m, in \u001b[36mPregelLoop._first\u001b[39m\u001b[34m(self, input_keys)\u001b[39m\n\u001b[32m    665\u001b[39m     \u001b[38;5;28mself\u001b[39m._put_checkpoint({\u001b[33m\"\u001b[39m\u001b[33msource\u001b[39m\u001b[33m\"\u001b[39m: \u001b[33m\"\u001b[39m\u001b[33minput\u001b[39m\u001b[33m\"\u001b[39m})\n\u001b[32m    666\u001b[39m \u001b[38;5;28;01melif\u001b[39;00m CONFIG_KEY_RESUMING \u001b[38;5;129;01mnot\u001b[39;00m \u001b[38;5;129;01min\u001b[39;00m configurable:\n\u001b[32m--> \u001b[39m\u001b[32m667\u001b[39m     \u001b[38;5;28;01mraise\u001b[39;00m EmptyInputError(\u001b[33mf\u001b[39m\u001b[33m\"\u001b[39m\u001b[33mReceived no input for \u001b[39m\u001b[38;5;132;01m{\u001b[39;00minput_keys\u001b[38;5;132;01m}\u001b[39;00m\u001b[33m\"\u001b[39m)\n\u001b[32m    668\u001b[39m \u001b[38;5;66;03m# update config\u001b[39;00m\n\u001b[32m    669\u001b[39m \u001b[38;5;28;01mif\u001b[39;00m \u001b[38;5;129;01mnot\u001b[39;00m \u001b[38;5;28mself\u001b[39m.is_nested:\n",
      "\u001b[31mEmptyInputError\u001b[39m: Received no input for __start__"
     ]
    }
   ],
   "source": [
    "workflow.invoke(None, {\"configurable\": {\"thread_id\": \"1\", \"checkpoint_id\": \"1f06cc72-ca16-6359-8001-7eea05e07dd2\"}})"
   ]
  },
  {
   "cell_type": "code",
   "execution_count": 37,
   "id": "db645da9",
   "metadata": {},
   "outputs": [
    {
     "data": {
      "text/plain": [
       "[StateSnapshot(values={}, next=('generate_joke',), config={'configurable': {'thread_id': '1', 'checkpoint_ns': '', 'checkpoint_id': '1f07e7f4-9ee9-6bfa-8000-7a30ac981df3'}}, metadata={'source': 'update', 'step': 0, 'parents': {}, 'thread_id': '1'}, created_at='2025-08-21T11:09:21.480601+00:00', parent_config={'configurable': {'thread_id': '1', 'checkpoint_ns': '', 'checkpoint_id': '1f06cc6e-7232-6cb1-8000-f71609e6cec5'}}, tasks=(PregelTask(id='0d6e0d3b-0f3c-4ae1-8654-e949524f0ca3', name='generate_joke', path=('__pregel_pull', 'generate_joke'), error=None, interrupts=(), state=None, result=None),), interrupts=()),\n",
       " StateSnapshot(values={'topic_of_joke': 'paid education', 'actual_joke': 'Why did the student bring a ladder to paid education? To climb to the top of their class and reach their high-paying future!', 'explanation': 'This joke plays on the double meaning of \"climbing to the top\" in the context of education and career success. By bringing a ladder to paid education, the student is humorously illustrating their determination to excel in school and eventually land a high-paying job. The image of physically climbing up a ladder mirrors the idea of moving up the academic and professional ranks to achieve success.'}, next=(), config={'configurable': {'thread_id': '1', 'checkpoint_ns': '', 'checkpoint_id': '1f07e7ee-5a0d-6faa-8008-73c3d3425512'}}, metadata={'source': 'loop', 'step': 8, 'parents': {}, 'thread_id': '1'}, created_at='2025-08-21T11:06:33.198993+00:00', parent_config={'configurable': {'thread_id': '1', 'checkpoint_ns': '', 'checkpoint_id': '1f07e7ee-4424-6b57-8007-721ec948dc11'}}, tasks=(), interrupts=()),\n",
       " StateSnapshot(values={'topic_of_joke': 'paid education', 'actual_joke': 'Why did the student bring a ladder to paid education? To climb to the top of their class and reach their high-paying future!', 'explanation': 'The joke plays on the idea of a \"high-paying job\" in two different ways. Firstly, the student literally brought a ladder to the seminar because they thought it was a job where they would be working at a high elevation and needed a ladder to reach their work. Secondly, the phrase \"high-paying job\" is commonly used to describe a job that pays well, so the student thought that bringing a ladder would help them secure this high-paying opportunity. Overall, the humor comes from the clever wordplay and the unexpected twist on the concept of a high-paying job.'}, next=('generate_explanation',), config={'configurable': {'thread_id': '1', 'checkpoint_ns': '', 'checkpoint_id': '1f07e7ee-4424-6b57-8007-721ec948dc11'}}, metadata={'source': 'loop', 'step': 7, 'parents': {}, 'thread_id': '1'}, created_at='2025-08-21T11:06:30.901435+00:00', parent_config={'configurable': {'thread_id': '1', 'checkpoint_ns': '', 'checkpoint_id': '1f07e7ee-341c-6047-8006-416581e54640'}}, tasks=(PregelTask(id='eb57c28f-05ce-6517-7230-cbb92a07048f', name='generate_explanation', path=('__pregel_pull', 'generate_explanation'), error=None, interrupts=(), state=None, result={'explanation': 'This joke plays on the double meaning of \"climbing to the top\" in the context of education and career success. By bringing a ladder to paid education, the student is humorously illustrating their determination to excel in school and eventually land a high-paying job. The image of physically climbing up a ladder mirrors the idea of moving up the academic and professional ranks to achieve success.'}),), interrupts=()),\n",
       " StateSnapshot(values={'topic_of_joke': 'paid education', 'actual_joke': 'Why did the student bring a ladder to the paid education seminar? \\nBecause they heard it was a high-paying job opportunity!', 'explanation': 'The joke plays on the idea of a \"high-paying job\" in two different ways. Firstly, the student literally brought a ladder to the seminar because they thought it was a job where they would be working at a high elevation and needed a ladder to reach their work. Secondly, the phrase \"high-paying job\" is commonly used to describe a job that pays well, so the student thought that bringing a ladder would help them secure this high-paying opportunity. Overall, the humor comes from the clever wordplay and the unexpected twist on the concept of a high-paying job.'}, next=('generate_joke',), config={'configurable': {'thread_id': '1', 'checkpoint_ns': '', 'checkpoint_id': '1f07e7ee-341c-6047-8006-416581e54640'}}, metadata={'source': 'loop', 'step': 6, 'parents': {}, 'thread_id': '1'}, created_at='2025-08-21T11:06:29.220154+00:00', parent_config={'configurable': {'thread_id': '1', 'checkpoint_ns': '', 'checkpoint_id': '1f07e7ee-3419-68b8-8005-9025d27995e4'}}, tasks=(PregelTask(id='22fd3cb3-c24e-0505-4f3c-c91f21b50b64', name='generate_joke', path=('__pregel_pull', 'generate_joke'), error=None, interrupts=(), state=None, result={'actual_joke': 'Why did the student bring a ladder to paid education? To climb to the top of their class and reach their high-paying future!'}),), interrupts=()),\n",
       " StateSnapshot(values={'topic_of_joke': 'paid education', 'actual_joke': 'Why did the student bring a ladder to the paid education seminar? \\nBecause they heard it was a high-paying job opportunity!', 'explanation': 'The joke plays on the idea of a \"high-paying job\" in two different ways. Firstly, the student literally brought a ladder to the seminar because they thought it was a job where they would be working at a high elevation and needed a ladder to reach their work. Secondly, the phrase \"high-paying job\" is commonly used to describe a job that pays well, so the student thought that bringing a ladder would help them secure this high-paying opportunity. Overall, the humor comes from the clever wordplay and the unexpected twist on the concept of a high-paying job.'}, next=('__start__',), config={'configurable': {'thread_id': '1', 'checkpoint_ns': '', 'checkpoint_id': '1f07e7ee-3419-68b8-8005-9025d27995e4'}}, metadata={'source': 'input', 'step': 5, 'parents': {}, 'thread_id': '1'}, created_at='2025-08-21T11:06:29.219141+00:00', parent_config={'configurable': {'thread_id': '1', 'checkpoint_ns': '', 'checkpoint_id': '1f07e7c0-a53f-69af-8004-1ea1af46933b'}}, tasks=(PregelTask(id='515883a1-3566-4d4f-6d40-a1e15bada8c9', name='__start__', path=('__pregel_pull', '__start__'), error=None, interrupts=(), state=None, result={'topic_of_joke': 'paid education'}),), interrupts=()),\n",
       " StateSnapshot(values={'topic_of_joke': 'paid education', 'actual_joke': 'Why did the student bring a ladder to the paid education seminar? \\nBecause they heard it was a high-paying job opportunity!', 'explanation': 'The joke plays on the idea of a \"high-paying job\" in two different ways. Firstly, the student literally brought a ladder to the seminar because they thought it was a job where they would be working at a high elevation and needed a ladder to reach their work. Secondly, the phrase \"high-paying job\" is commonly used to describe a job that pays well, so the student thought that bringing a ladder would help them secure this high-paying opportunity. Overall, the humor comes from the clever wordplay and the unexpected twist on the concept of a high-paying job.'}, next=(), config={'configurable': {'thread_id': '1', 'checkpoint_ns': '', 'checkpoint_id': '1f07e7c0-a53f-69af-8004-1ea1af46933b'}}, metadata={'source': 'loop', 'step': 4, 'parents': {}, 'thread_id': '1'}, created_at='2025-08-21T10:46:06.280542+00:00', parent_config={'configurable': {'thread_id': '1', 'checkpoint_ns': '', 'checkpoint_id': '1f07e7c0-8292-6ee9-8003-8c9fcc546429'}}, tasks=(), interrupts=()),\n",
       " StateSnapshot(values={'topic_of_joke': 'paid education', 'actual_joke': 'Why did the student bring a ladder to the paid education seminar? \\nBecause they heard it was a high-paying job opportunity!'}, next=('generate_explanation',), config={'configurable': {'thread_id': '1', 'checkpoint_ns': '', 'checkpoint_id': '1f07e7c0-8292-6ee9-8003-8c9fcc546429'}}, metadata={'source': 'loop', 'step': 3, 'parents': {}, 'thread_id': '1'}, created_at='2025-08-21T10:46:02.644656+00:00', parent_config={'configurable': {'thread_id': '1', 'checkpoint_ns': '', 'checkpoint_id': '1f07e7c0-6a65-6246-8002-37519ea446d1'}}, tasks=(PregelTask(id='a4486fd8-ed10-291a-acdb-4b22ae4fbe19', name='generate_explanation', path=('__pregel_pull', 'generate_explanation'), error=None, interrupts=(), state=None, result={'explanation': 'The joke plays on the idea of a \"high-paying job\" in two different ways. Firstly, the student literally brought a ladder to the seminar because they thought it was a job where they would be working at a high elevation and needed a ladder to reach their work. Secondly, the phrase \"high-paying job\" is commonly used to describe a job that pays well, so the student thought that bringing a ladder would help them secure this high-paying opportunity. Overall, the humor comes from the clever wordplay and the unexpected twist on the concept of a high-paying job.'}),), interrupts=()),\n",
       " StateSnapshot(values={'topic_of_joke': 'paid education'}, next=('generate_joke',), config={'configurable': {'thread_id': '1', 'checkpoint_ns': '', 'checkpoint_id': '1f07e7c0-6a65-6246-8002-37519ea446d1'}}, metadata={'source': 'loop', 'step': 2, 'parents': {}, 'thread_id': '1'}, created_at='2025-08-21T10:46:00.109318+00:00', parent_config={'configurable': {'thread_id': '1', 'checkpoint_ns': '', 'checkpoint_id': '1f07e7c0-6a65-6245-8001-e8ef7e75f824'}}, tasks=(PregelTask(id='af022a7e-034a-e184-0b3f-dfd66ddb4965', name='generate_joke', path=('__pregel_pull', 'generate_joke'), error=None, interrupts=(), state=None, result={'actual_joke': 'Why did the student bring a ladder to the paid education seminar? \\nBecause they heard it was a high-paying job opportunity!'}),), interrupts=()),\n",
       " StateSnapshot(values={}, next=('__start__',), config={'configurable': {'thread_id': '1', 'checkpoint_ns': '', 'checkpoint_id': '1f07e7c0-6a65-6245-8001-e8ef7e75f824'}}, metadata={'source': 'input', 'step': 1, 'parents': {}, 'thread_id': '1'}, created_at='2025-08-21T10:46:00.109318+00:00', parent_config={'configurable': {'thread_id': '1', 'checkpoint_ns': '', 'checkpoint_id': '1f07e7be-b446-6b6b-8000-b3794ef83222'}}, tasks=(PregelTask(id='fb88d26b-df0d-7615-287f-37cabbda2772', name='__start__', path=('__pregel_pull', '__start__'), error=None, interrupts=(), state=None, result={'topic_of_joke': 'paid education'}),), interrupts=()),\n",
       " StateSnapshot(values={}, next=('generate_joke',), config={'configurable': {'thread_id': '1', 'checkpoint_ns': '', 'checkpoint_id': '1f07e7be-b446-6b6b-8000-b3794ef83222'}}, metadata={'source': 'loop', 'step': 0, 'parents': {}, 'thread_id': '1'}, created_at='2025-08-21T10:45:14.169226+00:00', parent_config={'configurable': {'thread_id': '1', 'checkpoint_ns': '', 'checkpoint_id': '1f07e7be-b444-6468-bfff-703b001aa9d8'}}, tasks=(PregelTask(id='ab271ba6-44d6-9563-43ea-2f0b65970cbf', name='generate_joke', path=('__pregel_pull', 'generate_joke'), error=\"KeyError('topic_of_joke')\", interrupts=(), state=None, result=None),), interrupts=()),\n",
       " StateSnapshot(values={}, next=('__start__',), config={'configurable': {'thread_id': '1', 'checkpoint_ns': '', 'checkpoint_id': '1f07e7be-b444-6468-bfff-703b001aa9d8'}}, metadata={'source': 'input', 'step': -1, 'parents': {}, 'thread_id': '1'}, created_at='2025-08-21T10:45:14.168227+00:00', parent_config=None, tasks=(PregelTask(id='0d08fc3f-10d3-03a1-d6c3-8e0920134f44', name='__start__', path=('__pregel_pull', '__start__'), error=None, interrupts=(), state=None, result={}),), interrupts=())]"
      ]
     },
     "execution_count": 37,
     "metadata": {},
     "output_type": "execute_result"
    }
   ],
   "source": [
    "list(workflow.get_state_history(config1))"
   ]
  },
  {
   "cell_type": "markdown",
   "id": "d8435127",
   "metadata": {},
   "source": [
    "### Fault Tolerance"
   ]
  },
  {
   "cell_type": "code",
   "execution_count": 2,
   "id": "b7aacf7e",
   "metadata": {},
   "outputs": [],
   "source": [
    "from langgraph.graph import StateGraph, END\n",
    "from langgraph.checkpoint.memory import InMemorySaver\n",
    "from typing import TypedDict\n",
    "import time"
   ]
  },
  {
   "cell_type": "code",
   "execution_count": 3,
   "id": "095de12d",
   "metadata": {},
   "outputs": [],
   "source": [
    "# 1. Define the state\n",
    "class CrashState(TypedDict):\n",
    "    input: str\n",
    "    step1: str\n",
    "    step2: str"
   ]
  },
  {
   "cell_type": "code",
   "execution_count": 4,
   "id": "13365a36",
   "metadata": {},
   "outputs": [],
   "source": [
    "# 2. Define steps\n",
    "def step_1(state: CrashState) -> CrashState:\n",
    "    print(\"✅ Step 1 executed\")\n",
    "    return {\"step1\": \"done\", \"input\": state[\"input\"]}\n",
    "\n",
    "def step_2(state: CrashState) -> CrashState:\n",
    "    print(\"⏳ Step 2 hanging... now manually interrupt from the notebook toolbar (STOP button)\")\n",
    "    time.sleep(1000)  # Simulate long-running hang\n",
    "    return {\"step2\": \"done\"}\n",
    "\n",
    "def step_3(state: CrashState) -> CrashState:\n",
    "    print(\"✅ Step 3 executed\")\n",
    "    return {\"done\": True}"
   ]
  },
  {
   "cell_type": "code",
   "execution_count": 5,
   "id": "2838a3a1",
   "metadata": {},
   "outputs": [],
   "source": [
    "# 3. Build the graph\n",
    "builder = StateGraph(CrashState)\n",
    "builder.add_node(\"step_1\", step_1)\n",
    "builder.add_node(\"step_2\", step_2)\n",
    "builder.add_node(\"step_3\", step_3)\n",
    "\n",
    "builder.set_entry_point(\"step_1\")\n",
    "builder.add_edge(\"step_1\", \"step_2\")\n",
    "builder.add_edge(\"step_2\", \"step_3\")\n",
    "builder.add_edge(\"step_3\", END)\n",
    "\n",
    "checkpointer = InMemorySaver()\n",
    "graph = builder.compile(checkpointer=checkpointer)"
   ]
  },
  {
   "cell_type": "code",
   "execution_count": null,
   "id": "17c012e7",
   "metadata": {},
   "outputs": [
    {
     "name": "stdout",
     "output_type": "stream",
     "text": [
      "▶️ Running graph: Please manually interrupt during Step 2...\n",
      "✅ Step 1 executed\n",
      "⏳ Step 2 hanging... now manually interrupt from the notebook toolbar (STOP button)\n"
     ]
    }
   ],
   "source": [
    "try:\n",
    "    print(\"▶️ Running graph: Please manually interrupt during Step 2...\")\n",
    "    graph.invoke({\"input\": \"start\"}, config={\"configurable\": {\"thread_id\": 'thread-1'}})\n",
    "except KeyboardInterrupt:\n",
    "    print(\"❌ Kernel manually interrupted (crash simulated).\")"
   ]
  },
  {
   "cell_type": "code",
   "execution_count": null,
   "id": "95df3f98",
   "metadata": {},
   "outputs": [],
   "source": [
    "# 6. Re-run to show fault-tolerant resume\n",
    "print(\"\\n🔁 Re-running the graph to demonstrate fault tolerance...\")\n",
    "final_state = graph.invoke(None, config={\"configurable\": {\"thread_id\": 'thread-1'}})\n",
    "print(\"\\n✅ Final State:\", final_state)"
   ]
  },
  {
   "cell_type": "code",
   "execution_count": null,
   "id": "4f61ccbd",
   "metadata": {},
   "outputs": [],
   "source": [
    "list(graph.get_state_history({\"configurable\": {\"thread_id\": 'thread-1'}}))"
   ]
  }
 ],
 "metadata": {
  "kernelspec": {
   "display_name": "venv",
   "language": "python",
   "name": "python3"
  },
  "language_info": {
   "codemirror_mode": {
    "name": "ipython",
    "version": 3
   },
   "file_extension": ".py",
   "mimetype": "text/x-python",
   "name": "python",
   "nbconvert_exporter": "python",
   "pygments_lexer": "ipython3",
   "version": "3.12.4"
  }
 },
 "nbformat": 4,
 "nbformat_minor": 5
}
