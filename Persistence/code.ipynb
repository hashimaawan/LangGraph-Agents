{
 "cells": [
  {
   "cell_type": "code",
   "execution_count": 61,
   "id": "5fe01464",
   "metadata": {},
   "outputs": [
    {
     "name": "stderr",
     "output_type": "stream",
     "text": [
      "d:\\Agentic Ai\\LangChain_GenAi_LangGraph\\venv\\Lib\\site-packages\\tqdm\\auto.py:21: TqdmWarning: IProgress not found. Please update jupyter and ipywidgets. See https://ipywidgets.readthedocs.io/en/stable/user_install.html\n",
      "  from .autonotebook import tqdm as notebook_tqdm\n"
     ]
    }
   ],
   "source": [
    "#Some Credits @campusX\n",
    "from langgraph.graph import StateGraph, START, END\n",
    "from typing import TypedDict\n",
    "from langchain_openai import ChatOpenAI\n",
    "from langchain_google_genai import ChatGoogleGenerativeAI\n",
    "\n",
    "from dotenv import load_dotenv\n",
    "from langgraph.checkpoint.memory import InMemorySaver # In production you ahve to use a persistent storage like Redis or Postgres"
   ]
  },
  {
   "cell_type": "code",
   "execution_count": null,
   "id": "d65bfc11",
   "metadata": {},
   "outputs": [],
   "source": [
    "# load_dotenv()\n",
    "\n",
    "# llm = ChatOpenAI()\n",
    "\n",
    "llm = ChatGoogleGenerativeAI(\n",
    "    model=\"gemini-1.5-flash\",\n",
    "    temperature=0,\n",
    "    max_tokens=None,\n",
    "    timeout=None,\n",
    "    max_retries=2,\n",
    "    \n",
    ")"
   ]
  },
  {
   "cell_type": "code",
   "execution_count": 63,
   "id": "5922b899",
   "metadata": {},
   "outputs": [],
   "source": [
    "class JokeState(TypedDict):\n",
    "\n",
    "    topic_of_joke: str\n",
    "    actual_joke: str\n",
    "    explanation: str"
   ]
  },
  {
   "cell_type": "code",
   "execution_count": 64,
   "id": "0561076c",
   "metadata": {},
   "outputs": [],
   "source": [
    "def generate_joke(state: JokeState):\n",
    "\n",
    "    prompt = f'generate a joke on the topic {state[\"topic_of_joke\"]}'\n",
    "    response = llm.invoke(prompt).content\n",
    "\n",
    "    return {'actual_joke': response}"
   ]
  },
  {
   "cell_type": "code",
   "execution_count": 65,
   "id": "d95ff880",
   "metadata": {},
   "outputs": [],
   "source": [
    "def generate_explanation(state: JokeState):\n",
    "\n",
    "    prompt = f'write an explanation for the joke - {state[\"actual_joke\"]}'\n",
    "    response = llm.invoke(prompt).content\n",
    "\n",
    "    return {'explanation': response}"
   ]
  },
  {
   "cell_type": "code",
   "execution_count": 66,
   "id": "a1093470",
   "metadata": {},
   "outputs": [],
   "source": [
    "graph = StateGraph(JokeState)\n",
    "\n",
    "graph.add_node('generate_joke', generate_joke)\n",
    "graph.add_node('generate_explanation', generate_explanation)\n",
    "\n",
    "graph.add_edge(START, 'generate_joke')\n",
    "graph.add_edge('generate_joke', 'generate_explanation')\n",
    "graph.add_edge('generate_explanation', END)\n",
    "\n",
    "checkpointer1 = InMemorySaver()\n",
    "\n",
    "workflow = graph.compile(checkpointer=checkpointer1)"
   ]
  },
  {
   "cell_type": "code",
   "execution_count": 67,
   "id": "5e8f11c8",
   "metadata": {},
   "outputs": [
    {
     "data": {
      "text/plain": [
       "{'topic_of_joke': 'paid education',\n",
       " 'actual_joke': 'Why did the student cross the road?  Because tuition was too high to afford a bridge.',\n",
       " 'explanation': 'This is a play on words, using the common question \"Why did the chicken cross the road?\"  The expected answer is simple and straightforward (to get to the other side).  Instead, the joke offers a humorous, financially-motivated reason for crossing the road – implying that the student is so poor due to high tuition fees that they can\\'t afford the more convenient (and presumably more expensive) option of using a bridge.  The humor comes from the unexpected, relatable, and slightly absurd reason given in the context of a well-known riddle.'}"
      ]
     },
     "execution_count": 67,
     "metadata": {},
     "output_type": "execute_result"
    }
   ],
   "source": [
    "config1 = {\"configurable\": {\"thread_id\": \"1\"}}\n",
    "workflow.invoke({'topic_of_joke':'paid education'}, config=config1)"
   ]
  },
  {
   "cell_type": "code",
   "execution_count": 68,
   "id": "a6857b9c",
   "metadata": {},
   "outputs": [
    {
     "data": {
      "text/plain": [
       "StateSnapshot(values={'topic_of_joke': 'paid education', 'actual_joke': 'Why did the student cross the road?  Because tuition was too high to afford a bridge.', 'explanation': 'This is a play on words, using the common question \"Why did the chicken cross the road?\"  The expected answer is simple and straightforward (to get to the other side).  Instead, the joke offers a humorous, financially-motivated reason for crossing the road – implying that the student is so poor due to high tuition fees that they can\\'t afford the more convenient (and presumably more expensive) option of using a bridge.  The humor comes from the unexpected, relatable, and slightly absurd reason given in the context of a well-known riddle.'}, next=(), config={'configurable': {'thread_id': '1', 'checkpoint_ns': '', 'checkpoint_id': '1f07e8ac-f8e7-65a7-8002-21783b627fd7'}}, metadata={'source': 'loop', 'step': 2, 'parents': {}, 'thread_id': '1'}, created_at='2025-08-21T12:31:50.129194+00:00', parent_config={'configurable': {'thread_id': '1', 'checkpoint_ns': '', 'checkpoint_id': '1f07e8ac-ed3a-63a5-8001-0387473a176e'}}, tasks=(), interrupts=())"
      ]
     },
     "execution_count": 68,
     "metadata": {},
     "output_type": "execute_result"
    }
   ],
   "source": [
    "workflow.get_state(config1)"
   ]
  },
  {
   "cell_type": "code",
   "execution_count": 69,
   "id": "eb9eecda",
   "metadata": {},
   "outputs": [
    {
     "data": {
      "text/plain": [
       "[StateSnapshot(values={'topic_of_joke': 'paid education', 'actual_joke': 'Why did the student cross the road?  Because tuition was too high to afford a bridge.', 'explanation': 'This is a play on words, using the common question \"Why did the chicken cross the road?\"  The expected answer is simple and straightforward (to get to the other side).  Instead, the joke offers a humorous, financially-motivated reason for crossing the road – implying that the student is so poor due to high tuition fees that they can\\'t afford the more convenient (and presumably more expensive) option of using a bridge.  The humor comes from the unexpected, relatable, and slightly absurd reason given in the context of a well-known riddle.'}, next=(), config={'configurable': {'thread_id': '1', 'checkpoint_ns': '', 'checkpoint_id': '1f07e8ac-f8e7-65a7-8002-21783b627fd7'}}, metadata={'source': 'loop', 'step': 2, 'parents': {}, 'thread_id': '1'}, created_at='2025-08-21T12:31:50.129194+00:00', parent_config={'configurable': {'thread_id': '1', 'checkpoint_ns': '', 'checkpoint_id': '1f07e8ac-ed3a-63a5-8001-0387473a176e'}}, tasks=(), interrupts=()),\n",
       " StateSnapshot(values={'topic_of_joke': 'paid education', 'actual_joke': 'Why did the student cross the road?  Because tuition was too high to afford a bridge.'}, next=('generate_explanation',), config={'configurable': {'thread_id': '1', 'checkpoint_ns': '', 'checkpoint_id': '1f07e8ac-ed3a-63a5-8001-0387473a176e'}}, metadata={'source': 'loop', 'step': 1, 'parents': {}, 'thread_id': '1'}, created_at='2025-08-21T12:31:48.904848+00:00', parent_config={'configurable': {'thread_id': '1', 'checkpoint_ns': '', 'checkpoint_id': '1f07e8ac-dbea-6223-8000-0432c4b91f55'}}, tasks=(PregelTask(id='a464ec81-a879-1908-d7a1-519c9ea6a047', name='generate_explanation', path=('__pregel_pull', 'generate_explanation'), error=None, interrupts=(), state=None, result={'explanation': 'This is a play on words, using the common question \"Why did the chicken cross the road?\"  The expected answer is simple and straightforward (to get to the other side).  Instead, the joke offers a humorous, financially-motivated reason for crossing the road – implying that the student is so poor due to high tuition fees that they can\\'t afford the more convenient (and presumably more expensive) option of using a bridge.  The humor comes from the unexpected, relatable, and slightly absurd reason given in the context of a well-known riddle.'}),), interrupts=()),\n",
       " StateSnapshot(values={'topic_of_joke': 'paid education'}, next=('generate_joke',), config={'configurable': {'thread_id': '1', 'checkpoint_ns': '', 'checkpoint_id': '1f07e8ac-dbea-6223-8000-0432c4b91f55'}}, metadata={'source': 'loop', 'step': 0, 'parents': {}, 'thread_id': '1'}, created_at='2025-08-21T12:31:47.088459+00:00', parent_config={'configurable': {'thread_id': '1', 'checkpoint_ns': '', 'checkpoint_id': '1f07e8ac-dbe5-63e2-bfff-5e4e714d0789'}}, tasks=(PregelTask(id='8d6955a2-5317-ee31-c8e1-a3a41e6e9518', name='generate_joke', path=('__pregel_pull', 'generate_joke'), error=None, interrupts=(), state=None, result={'actual_joke': 'Why did the student cross the road?  Because tuition was too high to afford a bridge.'}),), interrupts=()),\n",
       " StateSnapshot(values={}, next=('__start__',), config={'configurable': {'thread_id': '1', 'checkpoint_ns': '', 'checkpoint_id': '1f07e8ac-dbe5-63e2-bfff-5e4e714d0789'}}, metadata={'source': 'input', 'step': -1, 'parents': {}, 'thread_id': '1'}, created_at='2025-08-21T12:31:47.087459+00:00', parent_config=None, tasks=(PregelTask(id='2ede3c8a-fca8-b946-5f30-fe690d8be445', name='__start__', path=('__pregel_pull', '__start__'), error=None, interrupts=(), state=None, result={'topic_of_joke': 'paid education'}),), interrupts=())]"
      ]
     },
     "execution_count": 69,
     "metadata": {},
     "output_type": "execute_result"
    }
   ],
   "source": [
    "list(workflow.get_state_history(config1))"
   ]
  },
  {
   "cell_type": "code",
   "execution_count": 70,
   "id": "628a9f28",
   "metadata": {},
   "outputs": [
    {
     "data": {
      "text/plain": [
       "{'topic_of_joke': 'unpaid_internships',\n",
       " 'actual_joke': \"Why did the unpaid intern bring a ladder to the office?  Because they heard the company was looking for someone to climb the corporate ladder... eventually, maybe, if they're lucky.\",\n",
       " 'explanation': 'The humor in the joke lies in the juxtaposition of the literal and figurative meanings of \"climbing the corporate ladder.\"\\n\\n* **Literal:** The intern brings a ladder, a physical object used for climbing. This is a straightforward, almost absurdly literal interpretation of the idiom.\\n\\n* **Figurative:** \"Climbing the corporate ladder\" is an idiom meaning to advance one\\'s career within a company, achieving higher positions and responsibilities.  This is the intended, understood meaning.\\n\\nThe joke\\'s punchline highlights the intern\\'s precarious position.  They\\'re unpaid, implying a low status and little chance of advancement.  The phrase \"eventually, maybe, if they\\'re lucky\" emphasizes the slim possibility of their actually achieving career progression, contrasting sharply with the literal act of bringing a ladder to help with that metaphorical climb.  It\\'s funny because it\\'s a darkly comedic commentary on the realities of unpaid internships and the often-unrealistic promises of career advancement.'}"
      ]
     },
     "execution_count": 70,
     "metadata": {},
     "output_type": "execute_result"
    }
   ],
   "source": [
    "config2 = {\"configurable\": {\"thread_id\": \"2\"}}\n",
    "workflow.invoke({'topic_of_joke':'unpaid_internships'}, config=config2)"
   ]
  },
  {
   "cell_type": "code",
   "execution_count": 71,
   "id": "eef5beb5",
   "metadata": {},
   "outputs": [
    {
     "data": {
      "text/plain": [
       "StateSnapshot(values={'topic_of_joke': 'unpaid_internships', 'actual_joke': \"Why did the unpaid intern bring a ladder to the office?  Because they heard the company was looking for someone to climb the corporate ladder... eventually, maybe, if they're lucky.\", 'explanation': 'The humor in the joke lies in the juxtaposition of the literal and figurative meanings of \"climbing the corporate ladder.\"\\n\\n* **Literal:** The intern brings a ladder, a physical object used for climbing. This is a straightforward, almost absurdly literal interpretation of the idiom.\\n\\n* **Figurative:** \"Climbing the corporate ladder\" is an idiom meaning to advance one\\'s career within a company, achieving higher positions and responsibilities.  This is the intended, understood meaning.\\n\\nThe joke\\'s punchline highlights the intern\\'s precarious position.  They\\'re unpaid, implying a low status and little chance of advancement.  The phrase \"eventually, maybe, if they\\'re lucky\" emphasizes the slim possibility of their actually achieving career progression, contrasting sharply with the literal act of bringing a ladder to help with that metaphorical climb.  It\\'s funny because it\\'s a darkly comedic commentary on the realities of unpaid internships and the often-unrealistic promises of career advancement.'}, next=(), config={'configurable': {'thread_id': '2', 'checkpoint_ns': '', 'checkpoint_id': '1f07e8ad-134e-60eb-8002-ae433b50db56'}}, metadata={'source': 'loop', 'step': 2, 'parents': {}, 'thread_id': '2'}, created_at='2025-08-21T12:31:52.897559+00:00', parent_config={'configurable': {'thread_id': '2', 'checkpoint_ns': '', 'checkpoint_id': '1f07e8ad-00d2-6a65-8001-64dc9e0efb6c'}}, tasks=(), interrupts=())"
      ]
     },
     "execution_count": 71,
     "metadata": {},
     "output_type": "execute_result"
    }
   ],
   "source": [
    "workflow.get_state(config2)"
   ]
  },
  {
   "cell_type": "code",
   "execution_count": 72,
   "id": "f7d0ea21",
   "metadata": {},
   "outputs": [
    {
     "data": {
      "text/plain": [
       "[StateSnapshot(values={'topic_of_joke': 'unpaid_internships', 'actual_joke': \"Why did the unpaid intern bring a ladder to the office?  Because they heard the company was looking for someone to climb the corporate ladder... eventually, maybe, if they're lucky.\", 'explanation': 'The humor in the joke lies in the juxtaposition of the literal and figurative meanings of \"climbing the corporate ladder.\"\\n\\n* **Literal:** The intern brings a ladder, a physical object used for climbing. This is a straightforward, almost absurdly literal interpretation of the idiom.\\n\\n* **Figurative:** \"Climbing the corporate ladder\" is an idiom meaning to advance one\\'s career within a company, achieving higher positions and responsibilities.  This is the intended, understood meaning.\\n\\nThe joke\\'s punchline highlights the intern\\'s precarious position.  They\\'re unpaid, implying a low status and little chance of advancement.  The phrase \"eventually, maybe, if they\\'re lucky\" emphasizes the slim possibility of their actually achieving career progression, contrasting sharply with the literal act of bringing a ladder to help with that metaphorical climb.  It\\'s funny because it\\'s a darkly comedic commentary on the realities of unpaid internships and the often-unrealistic promises of career advancement.'}, next=(), config={'configurable': {'thread_id': '2', 'checkpoint_ns': '', 'checkpoint_id': '1f07e8ad-134e-60eb-8002-ae433b50db56'}}, metadata={'source': 'loop', 'step': 2, 'parents': {}, 'thread_id': '2'}, created_at='2025-08-21T12:31:52.897559+00:00', parent_config={'configurable': {'thread_id': '2', 'checkpoint_ns': '', 'checkpoint_id': '1f07e8ad-00d2-6a65-8001-64dc9e0efb6c'}}, tasks=(), interrupts=()),\n",
       " StateSnapshot(values={'topic_of_joke': 'unpaid_internships', 'actual_joke': \"Why did the unpaid intern bring a ladder to the office?  Because they heard the company was looking for someone to climb the corporate ladder... eventually, maybe, if they're lucky.\"}, next=('generate_explanation',), config={'configurable': {'thread_id': '2', 'checkpoint_ns': '', 'checkpoint_id': '1f07e8ad-00d2-6a65-8001-64dc9e0efb6c'}}, metadata={'source': 'loop', 'step': 1, 'parents': {}, 'thread_id': '2'}, created_at='2025-08-21T12:31:50.958551+00:00', parent_config={'configurable': {'thread_id': '2', 'checkpoint_ns': '', 'checkpoint_id': '1f07e8ac-f965-634e-8000-5e88606453a5'}}, tasks=(PregelTask(id='63b6498d-6777-e114-0a1b-6363d1f42d06', name='generate_explanation', path=('__pregel_pull', 'generate_explanation'), error=None, interrupts=(), state=None, result={'explanation': 'The humor in the joke lies in the juxtaposition of the literal and figurative meanings of \"climbing the corporate ladder.\"\\n\\n* **Literal:** The intern brings a ladder, a physical object used for climbing. This is a straightforward, almost absurdly literal interpretation of the idiom.\\n\\n* **Figurative:** \"Climbing the corporate ladder\" is an idiom meaning to advance one\\'s career within a company, achieving higher positions and responsibilities.  This is the intended, understood meaning.\\n\\nThe joke\\'s punchline highlights the intern\\'s precarious position.  They\\'re unpaid, implying a low status and little chance of advancement.  The phrase \"eventually, maybe, if they\\'re lucky\" emphasizes the slim possibility of their actually achieving career progression, contrasting sharply with the literal act of bringing a ladder to help with that metaphorical climb.  It\\'s funny because it\\'s a darkly comedic commentary on the realities of unpaid internships and the often-unrealistic promises of career advancement.'}),), interrupts=()),\n",
       " StateSnapshot(values={'topic_of_joke': 'unpaid_internships'}, next=('generate_joke',), config={'configurable': {'thread_id': '2', 'checkpoint_ns': '', 'checkpoint_id': '1f07e8ac-f965-634e-8000-5e88606453a5'}}, metadata={'source': 'loop', 'step': 0, 'parents': {}, 'thread_id': '2'}, created_at='2025-08-21T12:31:50.180743+00:00', parent_config={'configurable': {'thread_id': '2', 'checkpoint_ns': '', 'checkpoint_id': '1f07e8ac-f962-6c6c-bfff-47e255e280f2'}}, tasks=(PregelTask(id='a190907f-76ec-1e34-adcc-456effa3d6bb', name='generate_joke', path=('__pregel_pull', 'generate_joke'), error=None, interrupts=(), state=None, result={'actual_joke': \"Why did the unpaid intern bring a ladder to the office?  Because they heard the company was looking for someone to climb the corporate ladder... eventually, maybe, if they're lucky.\"}),), interrupts=()),\n",
       " StateSnapshot(values={}, next=('__start__',), config={'configurable': {'thread_id': '2', 'checkpoint_ns': '', 'checkpoint_id': '1f07e8ac-f962-6c6c-bfff-47e255e280f2'}}, metadata={'source': 'input', 'step': -1, 'parents': {}, 'thread_id': '2'}, created_at='2025-08-21T12:31:50.179748+00:00', parent_config=None, tasks=(PregelTask(id='2030c3d7-008b-35ec-e19a-89465151382a', name='__start__', path=('__pregel_pull', '__start__'), error=None, interrupts=(), state=None, result={'topic_of_joke': 'unpaid_internships'}),), interrupts=())]"
      ]
     },
     "execution_count": 72,
     "metadata": {},
     "output_type": "execute_result"
    }
   ],
   "source": [
    "list(workflow.get_state_history(config2))"
   ]
  },
  {
   "cell_type": "markdown",
   "id": "5fccccee",
   "metadata": {},
   "source": [
    "### Time Travel"
   ]
  },
  {
   "cell_type": "code",
   "execution_count": 75,
   "id": "b5bfa235",
   "metadata": {},
   "outputs": [
    {
     "data": {
      "text/plain": [
       "StateSnapshot(values={'topic_of_joke': 'unpaid_internships'}, next=('generate_joke',), config={'configurable': {'thread_id': '2', 'checkpoint_id': '1f07e8ac-f965-634e-8000-5e88606453a5'}}, metadata={'source': 'loop', 'step': 0, 'parents': {}, 'thread_id': '2'}, created_at='2025-08-21T12:31:50.180743+00:00', parent_config={'configurable': {'thread_id': '2', 'checkpoint_ns': '', 'checkpoint_id': '1f07e8ac-f962-6c6c-bfff-47e255e280f2'}}, tasks=(PregelTask(id='a190907f-76ec-1e34-adcc-456effa3d6bb', name='generate_joke', path=('__pregel_pull', 'generate_joke'), error=None, interrupts=(), state=None, result={'actual_joke': \"Why did the unpaid intern bring a ladder to the office?  Because they heard the company was looking for someone to climb the corporate ladder... eventually, maybe, if they're lucky.\"}),), interrupts=())"
      ]
     },
     "execution_count": 75,
     "metadata": {},
     "output_type": "execute_result"
    }
   ],
   "source": [
    "workflow.get_state({\"configurable\": {\"thread_id\": \"2\", \"checkpoint_id\": \"1f07e8ac-f965-634e-8000-5e88606453a5\"}})"
   ]
  },
  {
   "cell_type": "code",
   "execution_count": 76,
   "id": "a28d72fa",
   "metadata": {},
   "outputs": [
    {
     "data": {
      "text/plain": [
       "{'topic_of_joke': 'unpaid_internships',\n",
       " 'actual_joke': \"Why did the unpaid intern bring a ladder to the office?  Because they heard the company was looking for someone to climb the corporate ladder... eventually, maybe, if they're lucky.\",\n",
       " 'explanation': 'The humor in the joke lies in the juxtaposition of the literal and figurative meanings of \"climbing the corporate ladder.\"\\n\\n* **Literal:** The intern literally brings a ladder, a physical object used for climbing. This is a silly, unexpected action.\\n\\n* **Figurative:** \"Climbing the corporate ladder\" is an idiom meaning to advance one\\'s career within a company, achieving higher positions and responsibilities.\\n\\nThe joke plays on the intern\\'s naivete or desperation.  They misunderstand the idiom, taking it literally.  The added \"eventually, maybe, if they\\'re lucky\" emphasizes their precarious and low-status position within the company, highlighting the long and uncertain path to career advancement, especially for an unpaid intern.  The punchline underscores the often-difficult reality of career progression, particularly for those starting at the bottom.'}"
      ]
     },
     "execution_count": 76,
     "metadata": {},
     "output_type": "execute_result"
    }
   ],
   "source": [
    "workflow.invoke(None, {\"configurable\": {\"thread_id\": \"2\", \"checkpoint_id\": \"1f07e8ac-f965-634e-8000-5e88606453a5\"}})"
   ]
  },
  {
   "cell_type": "code",
   "execution_count": null,
   "id": "cd55cf35",
   "metadata": {},
   "outputs": [
    {
     "data": {
      "text/plain": [
       "[StateSnapshot(values={'topic_of_joke': 'paid education', 'actual_joke': 'Why did the student bring a ladder to paid education? To climb to the top of their class and reach their high-paying future!', 'explanation': 'This joke plays on the double meaning of \"climbing to the top\" in the context of education and career success. By bringing a ladder to paid education, the student is humorously illustrating their determination to excel in school and eventually land a high-paying job. The image of physically climbing up a ladder mirrors the idea of moving up the academic and professional ranks to achieve success.'}, next=(), config={'configurable': {'thread_id': '1', 'checkpoint_ns': '', 'checkpoint_id': '1f07e7ee-5a0d-6faa-8008-73c3d3425512'}}, metadata={'source': 'loop', 'step': 8, 'parents': {}, 'thread_id': '1'}, created_at='2025-08-21T11:06:33.198993+00:00', parent_config={'configurable': {'thread_id': '1', 'checkpoint_ns': '', 'checkpoint_id': '1f07e7ee-4424-6b57-8007-721ec948dc11'}}, tasks=(), interrupts=()),\n",
       " StateSnapshot(values={'topic_of_joke': 'paid education', 'actual_joke': 'Why did the student bring a ladder to paid education? To climb to the top of their class and reach their high-paying future!', 'explanation': 'The joke plays on the idea of a \"high-paying job\" in two different ways. Firstly, the student literally brought a ladder to the seminar because they thought it was a job where they would be working at a high elevation and needed a ladder to reach their work. Secondly, the phrase \"high-paying job\" is commonly used to describe a job that pays well, so the student thought that bringing a ladder would help them secure this high-paying opportunity. Overall, the humor comes from the clever wordplay and the unexpected twist on the concept of a high-paying job.'}, next=('generate_explanation',), config={'configurable': {'thread_id': '1', 'checkpoint_ns': '', 'checkpoint_id': '1f07e7ee-4424-6b57-8007-721ec948dc11'}}, metadata={'source': 'loop', 'step': 7, 'parents': {}, 'thread_id': '1'}, created_at='2025-08-21T11:06:30.901435+00:00', parent_config={'configurable': {'thread_id': '1', 'checkpoint_ns': '', 'checkpoint_id': '1f07e7ee-341c-6047-8006-416581e54640'}}, tasks=(PregelTask(id='eb57c28f-05ce-6517-7230-cbb92a07048f', name='generate_explanation', path=('__pregel_pull', 'generate_explanation'), error=None, interrupts=(), state=None, result={'explanation': 'This joke plays on the double meaning of \"climbing to the top\" in the context of education and career success. By bringing a ladder to paid education, the student is humorously illustrating their determination to excel in school and eventually land a high-paying job. The image of physically climbing up a ladder mirrors the idea of moving up the academic and professional ranks to achieve success.'}),), interrupts=()),\n",
       " StateSnapshot(values={'topic_of_joke': 'paid education', 'actual_joke': 'Why did the student bring a ladder to the paid education seminar? \\nBecause they heard it was a high-paying job opportunity!', 'explanation': 'The joke plays on the idea of a \"high-paying job\" in two different ways. Firstly, the student literally brought a ladder to the seminar because they thought it was a job where they would be working at a high elevation and needed a ladder to reach their work. Secondly, the phrase \"high-paying job\" is commonly used to describe a job that pays well, so the student thought that bringing a ladder would help them secure this high-paying opportunity. Overall, the humor comes from the clever wordplay and the unexpected twist on the concept of a high-paying job.'}, next=('generate_joke',), config={'configurable': {'thread_id': '1', 'checkpoint_ns': '', 'checkpoint_id': '1f07e7ee-341c-6047-8006-416581e54640'}}, metadata={'source': 'loop', 'step': 6, 'parents': {}, 'thread_id': '1'}, created_at='2025-08-21T11:06:29.220154+00:00', parent_config={'configurable': {'thread_id': '1', 'checkpoint_ns': '', 'checkpoint_id': '1f07e7ee-3419-68b8-8005-9025d27995e4'}}, tasks=(PregelTask(id='22fd3cb3-c24e-0505-4f3c-c91f21b50b64', name='generate_joke', path=('__pregel_pull', 'generate_joke'), error=None, interrupts=(), state=None, result={'actual_joke': 'Why did the student bring a ladder to paid education? To climb to the top of their class and reach their high-paying future!'}),), interrupts=()),\n",
       " StateSnapshot(values={'topic_of_joke': 'paid education', 'actual_joke': 'Why did the student bring a ladder to the paid education seminar? \\nBecause they heard it was a high-paying job opportunity!', 'explanation': 'The joke plays on the idea of a \"high-paying job\" in two different ways. Firstly, the student literally brought a ladder to the seminar because they thought it was a job where they would be working at a high elevation and needed a ladder to reach their work. Secondly, the phrase \"high-paying job\" is commonly used to describe a job that pays well, so the student thought that bringing a ladder would help them secure this high-paying opportunity. Overall, the humor comes from the clever wordplay and the unexpected twist on the concept of a high-paying job.'}, next=('__start__',), config={'configurable': {'thread_id': '1', 'checkpoint_ns': '', 'checkpoint_id': '1f07e7ee-3419-68b8-8005-9025d27995e4'}}, metadata={'source': 'input', 'step': 5, 'parents': {}, 'thread_id': '1'}, created_at='2025-08-21T11:06:29.219141+00:00', parent_config={'configurable': {'thread_id': '1', 'checkpoint_ns': '', 'checkpoint_id': '1f07e7c0-a53f-69af-8004-1ea1af46933b'}}, tasks=(PregelTask(id='515883a1-3566-4d4f-6d40-a1e15bada8c9', name='__start__', path=('__pregel_pull', '__start__'), error=None, interrupts=(), state=None, result={'topic_of_joke': 'paid education'}),), interrupts=()),\n",
       " StateSnapshot(values={'topic_of_joke': 'paid education', 'actual_joke': 'Why did the student bring a ladder to the paid education seminar? \\nBecause they heard it was a high-paying job opportunity!', 'explanation': 'The joke plays on the idea of a \"high-paying job\" in two different ways. Firstly, the student literally brought a ladder to the seminar because they thought it was a job where they would be working at a high elevation and needed a ladder to reach their work. Secondly, the phrase \"high-paying job\" is commonly used to describe a job that pays well, so the student thought that bringing a ladder would help them secure this high-paying opportunity. Overall, the humor comes from the clever wordplay and the unexpected twist on the concept of a high-paying job.'}, next=(), config={'configurable': {'thread_id': '1', 'checkpoint_ns': '', 'checkpoint_id': '1f07e7c0-a53f-69af-8004-1ea1af46933b'}}, metadata={'source': 'loop', 'step': 4, 'parents': {}, 'thread_id': '1'}, created_at='2025-08-21T10:46:06.280542+00:00', parent_config={'configurable': {'thread_id': '1', 'checkpoint_ns': '', 'checkpoint_id': '1f07e7c0-8292-6ee9-8003-8c9fcc546429'}}, tasks=(), interrupts=()),\n",
       " StateSnapshot(values={'topic_of_joke': 'paid education', 'actual_joke': 'Why did the student bring a ladder to the paid education seminar? \\nBecause they heard it was a high-paying job opportunity!'}, next=('generate_explanation',), config={'configurable': {'thread_id': '1', 'checkpoint_ns': '', 'checkpoint_id': '1f07e7c0-8292-6ee9-8003-8c9fcc546429'}}, metadata={'source': 'loop', 'step': 3, 'parents': {}, 'thread_id': '1'}, created_at='2025-08-21T10:46:02.644656+00:00', parent_config={'configurable': {'thread_id': '1', 'checkpoint_ns': '', 'checkpoint_id': '1f07e7c0-6a65-6246-8002-37519ea446d1'}}, tasks=(PregelTask(id='a4486fd8-ed10-291a-acdb-4b22ae4fbe19', name='generate_explanation', path=('__pregel_pull', 'generate_explanation'), error=None, interrupts=(), state=None, result={'explanation': 'The joke plays on the idea of a \"high-paying job\" in two different ways. Firstly, the student literally brought a ladder to the seminar because they thought it was a job where they would be working at a high elevation and needed a ladder to reach their work. Secondly, the phrase \"high-paying job\" is commonly used to describe a job that pays well, so the student thought that bringing a ladder would help them secure this high-paying opportunity. Overall, the humor comes from the clever wordplay and the unexpected twist on the concept of a high-paying job.'}),), interrupts=()),\n",
       " StateSnapshot(values={'topic_of_joke': 'paid education'}, next=('generate_joke',), config={'configurable': {'thread_id': '1', 'checkpoint_ns': '', 'checkpoint_id': '1f07e7c0-6a65-6246-8002-37519ea446d1'}}, metadata={'source': 'loop', 'step': 2, 'parents': {}, 'thread_id': '1'}, created_at='2025-08-21T10:46:00.109318+00:00', parent_config={'configurable': {'thread_id': '1', 'checkpoint_ns': '', 'checkpoint_id': '1f07e7c0-6a65-6245-8001-e8ef7e75f824'}}, tasks=(PregelTask(id='af022a7e-034a-e184-0b3f-dfd66ddb4965', name='generate_joke', path=('__pregel_pull', 'generate_joke'), error=None, interrupts=(), state=None, result={'actual_joke': 'Why did the student bring a ladder to the paid education seminar? \\nBecause they heard it was a high-paying job opportunity!'}),), interrupts=()),\n",
       " StateSnapshot(values={}, next=('__start__',), config={'configurable': {'thread_id': '1', 'checkpoint_ns': '', 'checkpoint_id': '1f07e7c0-6a65-6245-8001-e8ef7e75f824'}}, metadata={'source': 'input', 'step': 1, 'parents': {}, 'thread_id': '1'}, created_at='2025-08-21T10:46:00.109318+00:00', parent_config={'configurable': {'thread_id': '1', 'checkpoint_ns': '', 'checkpoint_id': '1f07e7be-b446-6b6b-8000-b3794ef83222'}}, tasks=(PregelTask(id='fb88d26b-df0d-7615-287f-37cabbda2772', name='__start__', path=('__pregel_pull', '__start__'), error=None, interrupts=(), state=None, result={'topic_of_joke': 'paid education'}),), interrupts=()),\n",
       " StateSnapshot(values={}, next=('generate_joke',), config={'configurable': {'thread_id': '1', 'checkpoint_ns': '', 'checkpoint_id': '1f07e7be-b446-6b6b-8000-b3794ef83222'}}, metadata={'source': 'loop', 'step': 0, 'parents': {}, 'thread_id': '1'}, created_at='2025-08-21T10:45:14.169226+00:00', parent_config={'configurable': {'thread_id': '1', 'checkpoint_ns': '', 'checkpoint_id': '1f07e7be-b444-6468-bfff-703b001aa9d8'}}, tasks=(PregelTask(id='ab271ba6-44d6-9563-43ea-2f0b65970cbf', name='generate_joke', path=('__pregel_pull', 'generate_joke'), error=\"KeyError('topic_of_joke')\", interrupts=(), state=None, result=None),), interrupts=()),\n",
       " StateSnapshot(values={}, next=('__start__',), config={'configurable': {'thread_id': '1', 'checkpoint_ns': '', 'checkpoint_id': '1f07e7be-b444-6468-bfff-703b001aa9d8'}}, metadata={'source': 'input', 'step': -1, 'parents': {}, 'thread_id': '1'}, created_at='2025-08-21T10:45:14.168227+00:00', parent_config=None, tasks=(PregelTask(id='0d08fc3f-10d3-03a1-d6c3-8e0920134f44', name='__start__', path=('__pregel_pull', '__start__'), error=None, interrupts=(), state=None, result={}),), interrupts=())]"
      ]
     },
     "execution_count": 33,
     "metadata": {},
     "output_type": "execute_result"
    }
   ],
   "source": [
    "list(workflow.get_state_history(config1))"
   ]
  },
  {
   "cell_type": "markdown",
   "id": "ab1b895e",
   "metadata": {},
   "source": [
    "#### Updating State"
   ]
  },
  {
   "cell_type": "code",
   "execution_count": null,
   "id": "19378d86",
   "metadata": {},
   "outputs": [
    {
     "data": {
      "text/plain": [
       "{'configurable': {'thread_id': '1',\n",
       "  'checkpoint_ns': '',\n",
       "  'checkpoint_id': '1f07e7f4-9ee9-6bfa-8000-7a30ac981df3'}}"
      ]
     },
     "execution_count": 34,
     "metadata": {},
     "output_type": "execute_result"
    }
   ],
   "source": [
    "workflow.update_state({\"configurable\": {\"thread_id\": \"1\", \"checkpoint_id\": \"1f06cc6e-7232-6cb1-8000-f71609e6cec5\", \"checkpoint_ns\": \"\"}}, {'topic':'samosa'})"
   ]
  },
  {
   "cell_type": "code",
   "execution_count": null,
   "id": "7c486bff",
   "metadata": {},
   "outputs": [
    {
     "data": {
      "text/plain": [
       "[StateSnapshot(values={}, next=('generate_joke',), config={'configurable': {'thread_id': '1', 'checkpoint_ns': '', 'checkpoint_id': '1f07e7f4-9ee9-6bfa-8000-7a30ac981df3'}}, metadata={'source': 'update', 'step': 0, 'parents': {}, 'thread_id': '1'}, created_at='2025-08-21T11:09:21.480601+00:00', parent_config={'configurable': {'thread_id': '1', 'checkpoint_ns': '', 'checkpoint_id': '1f06cc6e-7232-6cb1-8000-f71609e6cec5'}}, tasks=(PregelTask(id='0d6e0d3b-0f3c-4ae1-8654-e949524f0ca3', name='generate_joke', path=('__pregel_pull', 'generate_joke'), error=None, interrupts=(), state=None, result=None),), interrupts=()),\n",
       " StateSnapshot(values={'topic_of_joke': 'paid education', 'actual_joke': 'Why did the student bring a ladder to paid education? To climb to the top of their class and reach their high-paying future!', 'explanation': 'This joke plays on the double meaning of \"climbing to the top\" in the context of education and career success. By bringing a ladder to paid education, the student is humorously illustrating their determination to excel in school and eventually land a high-paying job. The image of physically climbing up a ladder mirrors the idea of moving up the academic and professional ranks to achieve success.'}, next=(), config={'configurable': {'thread_id': '1', 'checkpoint_ns': '', 'checkpoint_id': '1f07e7ee-5a0d-6faa-8008-73c3d3425512'}}, metadata={'source': 'loop', 'step': 8, 'parents': {}, 'thread_id': '1'}, created_at='2025-08-21T11:06:33.198993+00:00', parent_config={'configurable': {'thread_id': '1', 'checkpoint_ns': '', 'checkpoint_id': '1f07e7ee-4424-6b57-8007-721ec948dc11'}}, tasks=(), interrupts=()),\n",
       " StateSnapshot(values={'topic_of_joke': 'paid education', 'actual_joke': 'Why did the student bring a ladder to paid education? To climb to the top of their class and reach their high-paying future!', 'explanation': 'The joke plays on the idea of a \"high-paying job\" in two different ways. Firstly, the student literally brought a ladder to the seminar because they thought it was a job where they would be working at a high elevation and needed a ladder to reach their work. Secondly, the phrase \"high-paying job\" is commonly used to describe a job that pays well, so the student thought that bringing a ladder would help them secure this high-paying opportunity. Overall, the humor comes from the clever wordplay and the unexpected twist on the concept of a high-paying job.'}, next=('generate_explanation',), config={'configurable': {'thread_id': '1', 'checkpoint_ns': '', 'checkpoint_id': '1f07e7ee-4424-6b57-8007-721ec948dc11'}}, metadata={'source': 'loop', 'step': 7, 'parents': {}, 'thread_id': '1'}, created_at='2025-08-21T11:06:30.901435+00:00', parent_config={'configurable': {'thread_id': '1', 'checkpoint_ns': '', 'checkpoint_id': '1f07e7ee-341c-6047-8006-416581e54640'}}, tasks=(PregelTask(id='eb57c28f-05ce-6517-7230-cbb92a07048f', name='generate_explanation', path=('__pregel_pull', 'generate_explanation'), error=None, interrupts=(), state=None, result={'explanation': 'This joke plays on the double meaning of \"climbing to the top\" in the context of education and career success. By bringing a ladder to paid education, the student is humorously illustrating their determination to excel in school and eventually land a high-paying job. The image of physically climbing up a ladder mirrors the idea of moving up the academic and professional ranks to achieve success.'}),), interrupts=()),\n",
       " StateSnapshot(values={'topic_of_joke': 'paid education', 'actual_joke': 'Why did the student bring a ladder to the paid education seminar? \\nBecause they heard it was a high-paying job opportunity!', 'explanation': 'The joke plays on the idea of a \"high-paying job\" in two different ways. Firstly, the student literally brought a ladder to the seminar because they thought it was a job where they would be working at a high elevation and needed a ladder to reach their work. Secondly, the phrase \"high-paying job\" is commonly used to describe a job that pays well, so the student thought that bringing a ladder would help them secure this high-paying opportunity. Overall, the humor comes from the clever wordplay and the unexpected twist on the concept of a high-paying job.'}, next=('generate_joke',), config={'configurable': {'thread_id': '1', 'checkpoint_ns': '', 'checkpoint_id': '1f07e7ee-341c-6047-8006-416581e54640'}}, metadata={'source': 'loop', 'step': 6, 'parents': {}, 'thread_id': '1'}, created_at='2025-08-21T11:06:29.220154+00:00', parent_config={'configurable': {'thread_id': '1', 'checkpoint_ns': '', 'checkpoint_id': '1f07e7ee-3419-68b8-8005-9025d27995e4'}}, tasks=(PregelTask(id='22fd3cb3-c24e-0505-4f3c-c91f21b50b64', name='generate_joke', path=('__pregel_pull', 'generate_joke'), error=None, interrupts=(), state=None, result={'actual_joke': 'Why did the student bring a ladder to paid education? To climb to the top of their class and reach their high-paying future!'}),), interrupts=()),\n",
       " StateSnapshot(values={'topic_of_joke': 'paid education', 'actual_joke': 'Why did the student bring a ladder to the paid education seminar? \\nBecause they heard it was a high-paying job opportunity!', 'explanation': 'The joke plays on the idea of a \"high-paying job\" in two different ways. Firstly, the student literally brought a ladder to the seminar because they thought it was a job where they would be working at a high elevation and needed a ladder to reach their work. Secondly, the phrase \"high-paying job\" is commonly used to describe a job that pays well, so the student thought that bringing a ladder would help them secure this high-paying opportunity. Overall, the humor comes from the clever wordplay and the unexpected twist on the concept of a high-paying job.'}, next=('__start__',), config={'configurable': {'thread_id': '1', 'checkpoint_ns': '', 'checkpoint_id': '1f07e7ee-3419-68b8-8005-9025d27995e4'}}, metadata={'source': 'input', 'step': 5, 'parents': {}, 'thread_id': '1'}, created_at='2025-08-21T11:06:29.219141+00:00', parent_config={'configurable': {'thread_id': '1', 'checkpoint_ns': '', 'checkpoint_id': '1f07e7c0-a53f-69af-8004-1ea1af46933b'}}, tasks=(PregelTask(id='515883a1-3566-4d4f-6d40-a1e15bada8c9', name='__start__', path=('__pregel_pull', '__start__'), error=None, interrupts=(), state=None, result={'topic_of_joke': 'paid education'}),), interrupts=()),\n",
       " StateSnapshot(values={'topic_of_joke': 'paid education', 'actual_joke': 'Why did the student bring a ladder to the paid education seminar? \\nBecause they heard it was a high-paying job opportunity!', 'explanation': 'The joke plays on the idea of a \"high-paying job\" in two different ways. Firstly, the student literally brought a ladder to the seminar because they thought it was a job where they would be working at a high elevation and needed a ladder to reach their work. Secondly, the phrase \"high-paying job\" is commonly used to describe a job that pays well, so the student thought that bringing a ladder would help them secure this high-paying opportunity. Overall, the humor comes from the clever wordplay and the unexpected twist on the concept of a high-paying job.'}, next=(), config={'configurable': {'thread_id': '1', 'checkpoint_ns': '', 'checkpoint_id': '1f07e7c0-a53f-69af-8004-1ea1af46933b'}}, metadata={'source': 'loop', 'step': 4, 'parents': {}, 'thread_id': '1'}, created_at='2025-08-21T10:46:06.280542+00:00', parent_config={'configurable': {'thread_id': '1', 'checkpoint_ns': '', 'checkpoint_id': '1f07e7c0-8292-6ee9-8003-8c9fcc546429'}}, tasks=(), interrupts=()),\n",
       " StateSnapshot(values={'topic_of_joke': 'paid education', 'actual_joke': 'Why did the student bring a ladder to the paid education seminar? \\nBecause they heard it was a high-paying job opportunity!'}, next=('generate_explanation',), config={'configurable': {'thread_id': '1', 'checkpoint_ns': '', 'checkpoint_id': '1f07e7c0-8292-6ee9-8003-8c9fcc546429'}}, metadata={'source': 'loop', 'step': 3, 'parents': {}, 'thread_id': '1'}, created_at='2025-08-21T10:46:02.644656+00:00', parent_config={'configurable': {'thread_id': '1', 'checkpoint_ns': '', 'checkpoint_id': '1f07e7c0-6a65-6246-8002-37519ea446d1'}}, tasks=(PregelTask(id='a4486fd8-ed10-291a-acdb-4b22ae4fbe19', name='generate_explanation', path=('__pregel_pull', 'generate_explanation'), error=None, interrupts=(), state=None, result={'explanation': 'The joke plays on the idea of a \"high-paying job\" in two different ways. Firstly, the student literally brought a ladder to the seminar because they thought it was a job where they would be working at a high elevation and needed a ladder to reach their work. Secondly, the phrase \"high-paying job\" is commonly used to describe a job that pays well, so the student thought that bringing a ladder would help them secure this high-paying opportunity. Overall, the humor comes from the clever wordplay and the unexpected twist on the concept of a high-paying job.'}),), interrupts=()),\n",
       " StateSnapshot(values={'topic_of_joke': 'paid education'}, next=('generate_joke',), config={'configurable': {'thread_id': '1', 'checkpoint_ns': '', 'checkpoint_id': '1f07e7c0-6a65-6246-8002-37519ea446d1'}}, metadata={'source': 'loop', 'step': 2, 'parents': {}, 'thread_id': '1'}, created_at='2025-08-21T10:46:00.109318+00:00', parent_config={'configurable': {'thread_id': '1', 'checkpoint_ns': '', 'checkpoint_id': '1f07e7c0-6a65-6245-8001-e8ef7e75f824'}}, tasks=(PregelTask(id='af022a7e-034a-e184-0b3f-dfd66ddb4965', name='generate_joke', path=('__pregel_pull', 'generate_joke'), error=None, interrupts=(), state=None, result={'actual_joke': 'Why did the student bring a ladder to the paid education seminar? \\nBecause they heard it was a high-paying job opportunity!'}),), interrupts=()),\n",
       " StateSnapshot(values={}, next=('__start__',), config={'configurable': {'thread_id': '1', 'checkpoint_ns': '', 'checkpoint_id': '1f07e7c0-6a65-6245-8001-e8ef7e75f824'}}, metadata={'source': 'input', 'step': 1, 'parents': {}, 'thread_id': '1'}, created_at='2025-08-21T10:46:00.109318+00:00', parent_config={'configurable': {'thread_id': '1', 'checkpoint_ns': '', 'checkpoint_id': '1f07e7be-b446-6b6b-8000-b3794ef83222'}}, tasks=(PregelTask(id='fb88d26b-df0d-7615-287f-37cabbda2772', name='__start__', path=('__pregel_pull', '__start__'), error=None, interrupts=(), state=None, result={'topic_of_joke': 'paid education'}),), interrupts=()),\n",
       " StateSnapshot(values={}, next=('generate_joke',), config={'configurable': {'thread_id': '1', 'checkpoint_ns': '', 'checkpoint_id': '1f07e7be-b446-6b6b-8000-b3794ef83222'}}, metadata={'source': 'loop', 'step': 0, 'parents': {}, 'thread_id': '1'}, created_at='2025-08-21T10:45:14.169226+00:00', parent_config={'configurable': {'thread_id': '1', 'checkpoint_ns': '', 'checkpoint_id': '1f07e7be-b444-6468-bfff-703b001aa9d8'}}, tasks=(PregelTask(id='ab271ba6-44d6-9563-43ea-2f0b65970cbf', name='generate_joke', path=('__pregel_pull', 'generate_joke'), error=\"KeyError('topic_of_joke')\", interrupts=(), state=None, result=None),), interrupts=()),\n",
       " StateSnapshot(values={}, next=('__start__',), config={'configurable': {'thread_id': '1', 'checkpoint_ns': '', 'checkpoint_id': '1f07e7be-b444-6468-bfff-703b001aa9d8'}}, metadata={'source': 'input', 'step': -1, 'parents': {}, 'thread_id': '1'}, created_at='2025-08-21T10:45:14.168227+00:00', parent_config=None, tasks=(PregelTask(id='0d08fc3f-10d3-03a1-d6c3-8e0920134f44', name='__start__', path=('__pregel_pull', '__start__'), error=None, interrupts=(), state=None, result={}),), interrupts=())]"
      ]
     },
     "execution_count": 35,
     "metadata": {},
     "output_type": "execute_result"
    }
   ],
   "source": [
    "list(workflow.get_state_history(config1))"
   ]
  },
  {
   "cell_type": "code",
   "execution_count": null,
   "id": "db645da9",
   "metadata": {},
   "outputs": [
    {
     "data": {
      "text/plain": [
       "[StateSnapshot(values={}, next=('generate_joke',), config={'configurable': {'thread_id': '1', 'checkpoint_ns': '', 'checkpoint_id': '1f07e7f4-9ee9-6bfa-8000-7a30ac981df3'}}, metadata={'source': 'update', 'step': 0, 'parents': {}, 'thread_id': '1'}, created_at='2025-08-21T11:09:21.480601+00:00', parent_config={'configurable': {'thread_id': '1', 'checkpoint_ns': '', 'checkpoint_id': '1f06cc6e-7232-6cb1-8000-f71609e6cec5'}}, tasks=(PregelTask(id='0d6e0d3b-0f3c-4ae1-8654-e949524f0ca3', name='generate_joke', path=('__pregel_pull', 'generate_joke'), error=None, interrupts=(), state=None, result=None),), interrupts=()),\n",
       " StateSnapshot(values={'topic_of_joke': 'paid education', 'actual_joke': 'Why did the student bring a ladder to paid education? To climb to the top of their class and reach their high-paying future!', 'explanation': 'This joke plays on the double meaning of \"climbing to the top\" in the context of education and career success. By bringing a ladder to paid education, the student is humorously illustrating their determination to excel in school and eventually land a high-paying job. The image of physically climbing up a ladder mirrors the idea of moving up the academic and professional ranks to achieve success.'}, next=(), config={'configurable': {'thread_id': '1', 'checkpoint_ns': '', 'checkpoint_id': '1f07e7ee-5a0d-6faa-8008-73c3d3425512'}}, metadata={'source': 'loop', 'step': 8, 'parents': {}, 'thread_id': '1'}, created_at='2025-08-21T11:06:33.198993+00:00', parent_config={'configurable': {'thread_id': '1', 'checkpoint_ns': '', 'checkpoint_id': '1f07e7ee-4424-6b57-8007-721ec948dc11'}}, tasks=(), interrupts=()),\n",
       " StateSnapshot(values={'topic_of_joke': 'paid education', 'actual_joke': 'Why did the student bring a ladder to paid education? To climb to the top of their class and reach their high-paying future!', 'explanation': 'The joke plays on the idea of a \"high-paying job\" in two different ways. Firstly, the student literally brought a ladder to the seminar because they thought it was a job where they would be working at a high elevation and needed a ladder to reach their work. Secondly, the phrase \"high-paying job\" is commonly used to describe a job that pays well, so the student thought that bringing a ladder would help them secure this high-paying opportunity. Overall, the humor comes from the clever wordplay and the unexpected twist on the concept of a high-paying job.'}, next=('generate_explanation',), config={'configurable': {'thread_id': '1', 'checkpoint_ns': '', 'checkpoint_id': '1f07e7ee-4424-6b57-8007-721ec948dc11'}}, metadata={'source': 'loop', 'step': 7, 'parents': {}, 'thread_id': '1'}, created_at='2025-08-21T11:06:30.901435+00:00', parent_config={'configurable': {'thread_id': '1', 'checkpoint_ns': '', 'checkpoint_id': '1f07e7ee-341c-6047-8006-416581e54640'}}, tasks=(PregelTask(id='eb57c28f-05ce-6517-7230-cbb92a07048f', name='generate_explanation', path=('__pregel_pull', 'generate_explanation'), error=None, interrupts=(), state=None, result={'explanation': 'This joke plays on the double meaning of \"climbing to the top\" in the context of education and career success. By bringing a ladder to paid education, the student is humorously illustrating their determination to excel in school and eventually land a high-paying job. The image of physically climbing up a ladder mirrors the idea of moving up the academic and professional ranks to achieve success.'}),), interrupts=()),\n",
       " StateSnapshot(values={'topic_of_joke': 'paid education', 'actual_joke': 'Why did the student bring a ladder to the paid education seminar? \\nBecause they heard it was a high-paying job opportunity!', 'explanation': 'The joke plays on the idea of a \"high-paying job\" in two different ways. Firstly, the student literally brought a ladder to the seminar because they thought it was a job where they would be working at a high elevation and needed a ladder to reach their work. Secondly, the phrase \"high-paying job\" is commonly used to describe a job that pays well, so the student thought that bringing a ladder would help them secure this high-paying opportunity. Overall, the humor comes from the clever wordplay and the unexpected twist on the concept of a high-paying job.'}, next=('generate_joke',), config={'configurable': {'thread_id': '1', 'checkpoint_ns': '', 'checkpoint_id': '1f07e7ee-341c-6047-8006-416581e54640'}}, metadata={'source': 'loop', 'step': 6, 'parents': {}, 'thread_id': '1'}, created_at='2025-08-21T11:06:29.220154+00:00', parent_config={'configurable': {'thread_id': '1', 'checkpoint_ns': '', 'checkpoint_id': '1f07e7ee-3419-68b8-8005-9025d27995e4'}}, tasks=(PregelTask(id='22fd3cb3-c24e-0505-4f3c-c91f21b50b64', name='generate_joke', path=('__pregel_pull', 'generate_joke'), error=None, interrupts=(), state=None, result={'actual_joke': 'Why did the student bring a ladder to paid education? To climb to the top of their class and reach their high-paying future!'}),), interrupts=()),\n",
       " StateSnapshot(values={'topic_of_joke': 'paid education', 'actual_joke': 'Why did the student bring a ladder to the paid education seminar? \\nBecause they heard it was a high-paying job opportunity!', 'explanation': 'The joke plays on the idea of a \"high-paying job\" in two different ways. Firstly, the student literally brought a ladder to the seminar because they thought it was a job where they would be working at a high elevation and needed a ladder to reach their work. Secondly, the phrase \"high-paying job\" is commonly used to describe a job that pays well, so the student thought that bringing a ladder would help them secure this high-paying opportunity. Overall, the humor comes from the clever wordplay and the unexpected twist on the concept of a high-paying job.'}, next=('__start__',), config={'configurable': {'thread_id': '1', 'checkpoint_ns': '', 'checkpoint_id': '1f07e7ee-3419-68b8-8005-9025d27995e4'}}, metadata={'source': 'input', 'step': 5, 'parents': {}, 'thread_id': '1'}, created_at='2025-08-21T11:06:29.219141+00:00', parent_config={'configurable': {'thread_id': '1', 'checkpoint_ns': '', 'checkpoint_id': '1f07e7c0-a53f-69af-8004-1ea1af46933b'}}, tasks=(PregelTask(id='515883a1-3566-4d4f-6d40-a1e15bada8c9', name='__start__', path=('__pregel_pull', '__start__'), error=None, interrupts=(), state=None, result={'topic_of_joke': 'paid education'}),), interrupts=()),\n",
       " StateSnapshot(values={'topic_of_joke': 'paid education', 'actual_joke': 'Why did the student bring a ladder to the paid education seminar? \\nBecause they heard it was a high-paying job opportunity!', 'explanation': 'The joke plays on the idea of a \"high-paying job\" in two different ways. Firstly, the student literally brought a ladder to the seminar because they thought it was a job where they would be working at a high elevation and needed a ladder to reach their work. Secondly, the phrase \"high-paying job\" is commonly used to describe a job that pays well, so the student thought that bringing a ladder would help them secure this high-paying opportunity. Overall, the humor comes from the clever wordplay and the unexpected twist on the concept of a high-paying job.'}, next=(), config={'configurable': {'thread_id': '1', 'checkpoint_ns': '', 'checkpoint_id': '1f07e7c0-a53f-69af-8004-1ea1af46933b'}}, metadata={'source': 'loop', 'step': 4, 'parents': {}, 'thread_id': '1'}, created_at='2025-08-21T10:46:06.280542+00:00', parent_config={'configurable': {'thread_id': '1', 'checkpoint_ns': '', 'checkpoint_id': '1f07e7c0-8292-6ee9-8003-8c9fcc546429'}}, tasks=(), interrupts=()),\n",
       " StateSnapshot(values={'topic_of_joke': 'paid education', 'actual_joke': 'Why did the student bring a ladder to the paid education seminar? \\nBecause they heard it was a high-paying job opportunity!'}, next=('generate_explanation',), config={'configurable': {'thread_id': '1', 'checkpoint_ns': '', 'checkpoint_id': '1f07e7c0-8292-6ee9-8003-8c9fcc546429'}}, metadata={'source': 'loop', 'step': 3, 'parents': {}, 'thread_id': '1'}, created_at='2025-08-21T10:46:02.644656+00:00', parent_config={'configurable': {'thread_id': '1', 'checkpoint_ns': '', 'checkpoint_id': '1f07e7c0-6a65-6246-8002-37519ea446d1'}}, tasks=(PregelTask(id='a4486fd8-ed10-291a-acdb-4b22ae4fbe19', name='generate_explanation', path=('__pregel_pull', 'generate_explanation'), error=None, interrupts=(), state=None, result={'explanation': 'The joke plays on the idea of a \"high-paying job\" in two different ways. Firstly, the student literally brought a ladder to the seminar because they thought it was a job where they would be working at a high elevation and needed a ladder to reach their work. Secondly, the phrase \"high-paying job\" is commonly used to describe a job that pays well, so the student thought that bringing a ladder would help them secure this high-paying opportunity. Overall, the humor comes from the clever wordplay and the unexpected twist on the concept of a high-paying job.'}),), interrupts=()),\n",
       " StateSnapshot(values={'topic_of_joke': 'paid education'}, next=('generate_joke',), config={'configurable': {'thread_id': '1', 'checkpoint_ns': '', 'checkpoint_id': '1f07e7c0-6a65-6246-8002-37519ea446d1'}}, metadata={'source': 'loop', 'step': 2, 'parents': {}, 'thread_id': '1'}, created_at='2025-08-21T10:46:00.109318+00:00', parent_config={'configurable': {'thread_id': '1', 'checkpoint_ns': '', 'checkpoint_id': '1f07e7c0-6a65-6245-8001-e8ef7e75f824'}}, tasks=(PregelTask(id='af022a7e-034a-e184-0b3f-dfd66ddb4965', name='generate_joke', path=('__pregel_pull', 'generate_joke'), error=None, interrupts=(), state=None, result={'actual_joke': 'Why did the student bring a ladder to the paid education seminar? \\nBecause they heard it was a high-paying job opportunity!'}),), interrupts=()),\n",
       " StateSnapshot(values={}, next=('__start__',), config={'configurable': {'thread_id': '1', 'checkpoint_ns': '', 'checkpoint_id': '1f07e7c0-6a65-6245-8001-e8ef7e75f824'}}, metadata={'source': 'input', 'step': 1, 'parents': {}, 'thread_id': '1'}, created_at='2025-08-21T10:46:00.109318+00:00', parent_config={'configurable': {'thread_id': '1', 'checkpoint_ns': '', 'checkpoint_id': '1f07e7be-b446-6b6b-8000-b3794ef83222'}}, tasks=(PregelTask(id='fb88d26b-df0d-7615-287f-37cabbda2772', name='__start__', path=('__pregel_pull', '__start__'), error=None, interrupts=(), state=None, result={'topic_of_joke': 'paid education'}),), interrupts=()),\n",
       " StateSnapshot(values={}, next=('generate_joke',), config={'configurable': {'thread_id': '1', 'checkpoint_ns': '', 'checkpoint_id': '1f07e7be-b446-6b6b-8000-b3794ef83222'}}, metadata={'source': 'loop', 'step': 0, 'parents': {}, 'thread_id': '1'}, created_at='2025-08-21T10:45:14.169226+00:00', parent_config={'configurable': {'thread_id': '1', 'checkpoint_ns': '', 'checkpoint_id': '1f07e7be-b444-6468-bfff-703b001aa9d8'}}, tasks=(PregelTask(id='ab271ba6-44d6-9563-43ea-2f0b65970cbf', name='generate_joke', path=('__pregel_pull', 'generate_joke'), error=\"KeyError('topic_of_joke')\", interrupts=(), state=None, result=None),), interrupts=()),\n",
       " StateSnapshot(values={}, next=('__start__',), config={'configurable': {'thread_id': '1', 'checkpoint_ns': '', 'checkpoint_id': '1f07e7be-b444-6468-bfff-703b001aa9d8'}}, metadata={'source': 'input', 'step': -1, 'parents': {}, 'thread_id': '1'}, created_at='2025-08-21T10:45:14.168227+00:00', parent_config=None, tasks=(PregelTask(id='0d08fc3f-10d3-03a1-d6c3-8e0920134f44', name='__start__', path=('__pregel_pull', '__start__'), error=None, interrupts=(), state=None, result={}),), interrupts=())]"
      ]
     },
     "execution_count": 37,
     "metadata": {},
     "output_type": "execute_result"
    }
   ],
   "source": [
    "list(workflow.get_state_history(config1))"
   ]
  },
  {
   "cell_type": "markdown",
   "id": "d8435127",
   "metadata": {},
   "source": [
    "### Fault Tolerance"
   ]
  },
  {
   "cell_type": "code",
   "execution_count": null,
   "id": "b7aacf7e",
   "metadata": {},
   "outputs": [],
   "source": [
    "from langgraph.graph import StateGraph, END\n",
    "from langgraph.checkpoint.memory import InMemorySaver\n",
    "from typing import TypedDict\n",
    "import time"
   ]
  },
  {
   "cell_type": "code",
   "execution_count": null,
   "id": "095de12d",
   "metadata": {},
   "outputs": [],
   "source": [
    "# 1. Define the state\n",
    "class CrashState(TypedDict):\n",
    "    input: str\n",
    "    step1: str\n",
    "    step2: str"
   ]
  },
  {
   "cell_type": "code",
   "execution_count": null,
   "id": "13365a36",
   "metadata": {},
   "outputs": [],
   "source": [
    "# 2. Define steps\n",
    "def step_1(state: CrashState) -> CrashState:\n",
    "    print(\"✅ Step 1 executed\")\n",
    "    return {\"step1\": \"done\", \"input\": state[\"input\"]}\n",
    "\n",
    "def step_2(state: CrashState) -> CrashState:\n",
    "    print(\"⏳ Step 2 hanging... now manually interrupt from the notebook toolbar (STOP button)\")\n",
    "    time.sleep(1000)  # Simulate long-running hang\n",
    "    return {\"step2\": \"done\"}\n",
    "\n",
    "def step_3(state: CrashState) -> CrashState:\n",
    "    print(\"✅ Step 3 executed\")\n",
    "    return {\"done\": True}"
   ]
  },
  {
   "cell_type": "code",
   "execution_count": null,
   "id": "2838a3a1",
   "metadata": {},
   "outputs": [],
   "source": [
    "# 3. Build the graph\n",
    "builder = StateGraph(CrashState)\n",
    "builder.add_node(\"step_1\", step_1)\n",
    "builder.add_node(\"step_2\", step_2)\n",
    "builder.add_node(\"step_3\", step_3)\n",
    "\n",
    "builder.set_entry_point(\"step_1\")\n",
    "builder.add_edge(\"step_1\", \"step_2\")\n",
    "builder.add_edge(\"step_2\", \"step_3\")\n",
    "builder.add_edge(\"step_3\", END)\n",
    "\n",
    "checkpointer = InMemorySaver()\n",
    "graph = builder.compile(checkpointer=checkpointer)"
   ]
  },
  {
   "cell_type": "code",
   "execution_count": null,
   "id": "17c012e7",
   "metadata": {},
   "outputs": [
    {
     "name": "stdout",
     "output_type": "stream",
     "text": [
      "▶️ Running graph: Please manually interrupt during Step 2...\n",
      "✅ Step 1 executed\n",
      "⏳ Step 2 hanging... now manually interrupt from the notebook toolbar (STOP button)\n"
     ]
    }
   ],
   "source": [
    "try:\n",
    "    print(\"▶️ Running graph: Please manually interrupt during Step 2...\")\n",
    "    graph.invoke({\"input\": \"start\"}, config={\"configurable\": {\"thread_id\": 'thread-1'}})\n",
    "except KeyboardInterrupt:\n",
    "    print(\"❌ Kernel manually interrupted (crash simulated).\")"
   ]
  },
  {
   "cell_type": "code",
   "execution_count": null,
   "id": "95df3f98",
   "metadata": {},
   "outputs": [],
   "source": [
    "# 6. Re-run to show fault-tolerant resume\n",
    "print(\"\\n🔁 Re-running the graph to demonstrate fault tolerance...\")\n",
    "final_state = graph.invoke(None, config={\"configurable\": {\"thread_id\": 'thread-1'}})\n",
    "print(\"\\n✅ Final State:\", final_state)"
   ]
  },
  {
   "cell_type": "code",
   "execution_count": null,
   "id": "4f61ccbd",
   "metadata": {},
   "outputs": [],
   "source": [
    "list(graph.get_state_history({\"configurable\": {\"thread_id\": 'thread-1'}}))"
   ]
  }
 ],
 "metadata": {
  "kernelspec": {
   "display_name": "venv",
   "language": "python",
   "name": "python3"
  },
  "language_info": {
   "codemirror_mode": {
    "name": "ipython",
    "version": 3
   },
   "file_extension": ".py",
   "mimetype": "text/x-python",
   "name": "python",
   "nbconvert_exporter": "python",
   "pygments_lexer": "ipython3",
   "version": "3.12.4"
  }
 },
 "nbformat": 4,
 "nbformat_minor": 5
}
