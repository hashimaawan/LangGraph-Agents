{
 "cells": [
  {
   "cell_type": "code",
   "execution_count": 63,
   "id": "5ac22940",
   "metadata": {},
   "outputs": [],
   "source": [
    "#\n",
    "\n",
    "from langchain_community.chat_models import ChatOllama\n",
    "from langgraph.graph import StateGraph, START, END\n",
    "from pydantic import BaseModel, Field\n",
    "from typing import TypedDict\n",
    "import operator\n",
    "import json\n"
   ]
  },
  {
   "cell_type": "code",
   "execution_count": 64,
   "id": "1c664a77",
   "metadata": {},
   "outputs": [],
   "source": [
    "# Create Ollama LLaMA model\n",
    "llm = ChatOllama(\n",
    "    model=\"llama3.2:1b\",  # <-- or \"llama3\", or any valid name from `ollama list`\n",
    "    base_url=\"http://localhost:11434\"\n",
    ")"
   ]
  },
  {
   "cell_type": "code",
   "execution_count": null,
   "id": "70ab67f2",
   "metadata": {},
   "outputs": [],
   "source": [
    "class EssayAnalysisInput(BaseModel):\n",
    "    feedback : str = Field(..., description=\"Feedback on the essay\")\n",
    "    score : int = Field(..., description=\"Score given to the essay\", ge=0, le=10)\n",
    "    \n"
   ]
  },
  {
   "cell_type": "code",
   "execution_count": 66,
   "id": "5a640d49",
   "metadata": {},
   "outputs": [],
   "source": [
    "essay_text = \"\"\"\n",
    "The impact of climate change on agriculture is profound. Rising temperatures, \n",
    "irregular rainfall patterns, and extreme weather events disrupt crop yields. \n",
    "Farmers face challenges adapting to these changes, which threatens food security globally.\n",
    "\"\"\""
   ]
  },
  {
   "cell_type": "code",
   "execution_count": 67,
   "id": "24548ee0",
   "metadata": {},
   "outputs": [],
   "source": [
    "# State\n",
    "class GraphState(TypedDict):\n",
    "    essay: str\n",
    "    content_analysis: dict\n",
    "    research_analysis: dict\n",
    "    grammar_analysis: dict\n",
    "    final_result: dict\n"
   ]
  },
  {
   "cell_type": "code",
   "execution_count": 68,
   "id": "deebe06c",
   "metadata": {},
   "outputs": [],
   "source": [
    "def run_analysis(essay: str, task: str):\n",
    "    prompt = f\"\"\"\n",
    "You are performing '{task}' on the given essay. \n",
    "Return ONLY a JSON object with:\n",
    "- feedback (string)\n",
    "- score (integer 0–10)\n",
    "\n",
    "Essay:\n",
    "{essay}\n",
    "\"\"\"\n",
    "    resp = llm.invoke(prompt)\n",
    "    try:\n",
    "        parsed = json.loads(resp.content)\n",
    "        validated = EssayAnalysisOutput.parse_obj(parsed)\n",
    "        return validated.dict()\n",
    "    except Exception as e:\n",
    "        return {\"feedback\": f\"Error parsing output: {str(e)}\", \"score\": 0}\n"
   ]
  },
  {
   "cell_type": "code",
   "execution_count": 69,
   "id": "83463cd8",
   "metadata": {},
   "outputs": [],
   "source": [
    "def content_node(state: GraphState):\n",
    "    state[\"content_analysis\"] = run_analysis(state[\"essay\"], \"Content Analysis\")\n",
    "    return state\n",
    "\n",
    "def research_node(state: GraphState):\n",
    "    state[\"research_analysis\"] = run_analysis(state[\"essay\"], \"Depth of Research Analysis\")\n",
    "    return state\n",
    "\n",
    "def grammar_node(state: GraphState):\n",
    "    state[\"grammar_analysis\"] = run_analysis(state[\"essay\"], \"Grammar and Structure Analysis\")\n",
    "    return state"
   ]
  },
  {
   "cell_type": "code",
   "execution_count": 70,
   "id": "cd7399a8",
   "metadata": {},
   "outputs": [],
   "source": [
    "def combine_results(state: GraphState):\n",
    "    all_feedback = []\n",
    "    all_scores = []\n",
    "    for key in [\"content_analysis\", \"research_analysis\", \"grammar_analysis\"]:\n",
    "        result = state.get(key, {})\n",
    "        all_feedback.append(f\"{key}: {result.get('feedback')}\")\n",
    "        all_scores.append(result.get(\"score\", 0))\n",
    "    avg_score = round(sum(all_scores) / len(all_scores), 2)\n",
    "    return {\n",
    "        \"final_result\": {\n",
    "            \"combined_feedback\": \"\\n\".join(all_feedback),\n",
    "            \"average_score\": avg_score\n",
    "        }\n",
    "    }"
   ]
  },
  {
   "cell_type": "code",
   "execution_count": 71,
   "id": "8d6d9d75",
   "metadata": {},
   "outputs": [],
   "source": [
    "workflow = StateGraph(GraphState)\n",
    "workflow.add_node(\"content\", content_node)\n",
    "workflow.add_node(\"research\", research_node)\n",
    "workflow.add_node(\"grammar\", grammar_node)\n",
    "workflow.add_node(\"combine\", combine_results)\n",
    "\n",
    "workflow.add_edge(START, \"content\")\n",
    "workflow.add_edge(START, \"research\")\n",
    "workflow.add_edge(START, \"grammar\")\n",
    "\n",
    "workflow.add_edge(\"content\", \"combine\")\n",
    "workflow.add_edge(\"research\", \"combine\")\n",
    "workflow.add_edge(\"grammar\", \"combine\")\n",
    "\n",
    "workflow.add_edge(\"combine\", END)\n",
    "\n",
    "app = workflow.compile()\n"
   ]
  },
  {
   "cell_type": "code",
   "execution_count": 77,
   "id": "430efa4a",
   "metadata": {},
   "outputs": [
    {
     "data": {
      "text/markdown": [
       "### Essay Analysis parallel workflow"
      ],
      "text/plain": [
       "<IPython.core.display.Markdown object>"
      ]
     },
     "metadata": {},
     "output_type": "display_data"
    },
    {
     "data": {
      "image/png": "[encoded data removed]",
      "text/plain": [
       "<IPython.core.display.Image object>"
      ]
     },
     "execution_count": 77,
     "metadata": {},
     "output_type": "execute_result"
    }
   ],
   "source": [
    "from IPython.display import display, Markdown, Image\n",
    "\n",
    "display(Markdown(\"### Essay Analysis parallel workflow\"))\n",
    "\n",
    "# Compile the graph\n",
    "compiled_graph = workflow.compile()\n",
    "\n",
    "# Render Mermaid PNG\n",
    "Image(compiled_graph.get_graph().draw_mermaid_png())\n"
   ]
  },
  {
   "cell_type": "code",
   "execution_count": 76,
   "id": "2cfd8906",
   "metadata": {},
   "outputs": [
    {
     "name": "stderr",
     "output_type": "stream",
     "text": [
      "C:\\Users\\Hashim Awan\\AppData\\Local\\Temp\\ipykernel_14476\\3229248056.py:46: PydanticDeprecatedSince20: The `parse_obj` method is deprecated; use `model_validate` instead. Deprecated in Pydantic V2.0 to be removed in V3.0. See Pydantic V2 Migration Guide at https://errors.pydantic.dev/2.11/migration/\n",
      "  validated = EssayAnalysisOutput.parse_obj(parsed)\n",
      "C:\\Users\\Hashim Awan\\AppData\\Local\\Temp\\ipykernel_14476\\3229248056.py:47: PydanticDeprecatedSince20: The `dict` method is deprecated; use `model_dump` instead. Deprecated in Pydantic V2.0 to be removed in V3.0. See Pydantic V2 Migration Guide at https://errors.pydantic.dev/2.11/migration/\n",
      "  return validated.dict()\n"
     ]
    }
   ],
   "source": [
    "final_state = app.invoke({\"essay\": essay_text})\n",
    "\n"
   ]
  },
  {
   "cell_type": "code",
   "execution_count": 78,
   "id": "c8ac43dc",
   "metadata": {},
   "outputs": [
    {
     "name": "stdout",
     "output_type": "stream",
     "text": [
      "=== FINAL FEEDBACK ===\n",
      "content_analysis: This introduction effectively sets up the topic of climate change's impact on agriculture.\n",
      "research_analysis: The provided essay provides a good overview of the impact of climate change on agriculture, but lacks depth in its analysis.\n",
      "grammar_analysis: The given essay provides a general overview of the impact of climate change on agriculture but lacks specific details and supporting evidence.\n",
      "\n",
      "Average Score: 5.33\n"
     ]
    }
   ],
   "source": [
    "print(\"=== FINAL FEEDBACK ===\")\n",
    "print(final_state[\"final_result\"][\"combined_feedback\"])\n",
    "print(\"\\nAverage Score:\", final_state[\"final_result\"][\"average_score\"])"
   ]
  },
  {
   "cell_type": "code",
   "execution_count": null,
   "id": "5104e044",
   "metadata": {},
   "outputs": [
    {
     "data": {
      "text/plain": [
       "<langgraph.graph.state.StateGraph at 0x1ea95e53020>"
      ]
     },
     "execution_count": 24,
     "metadata": {},
     "output_type": "execute_result"
    }
   ],
   "source": [
    "workflow"
   ]
  },
  {
   "cell_type": "code",
   "execution_count": null,
   "id": "f3d8cf63",
   "metadata": {},
   "outputs": [],
   "source": []
  }
 ],
 "metadata": {
  "kernelspec": {
   "display_name": "venv",
   "language": "python",
   "name": "python3"
  },
  "language_info": {
   "codemirror_mode": {
    "name": "ipython",
    "version": 3
   },
   "file_extension": ".py",
   "mimetype": "text/x-python",
   "name": "python",
   "nbconvert_exporter": "python",
   "pygments_lexer": "ipython3",
   "version": "3.12.4"
  }
 },
 "nbformat": 4,
 "nbformat_minor": 5
}
