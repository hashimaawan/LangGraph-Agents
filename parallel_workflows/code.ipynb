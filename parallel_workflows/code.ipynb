{
 "cells": [
  {
   "cell_type": "code",
   "execution_count": 71,
   "id": "a3b37e47",
   "metadata": {},
   "outputs": [],
   "source": [
    "# simple_langgraph_llama.py\n",
    "\n",
    "from langchain_community.chat_models import ChatOllama\n",
    "from langgraph.graph import StateGraph, START, END\n",
    "from typing import TypedDict\n",
    "import operator\n"
   ]
  },
  {
   "cell_type": "code",
   "execution_count": 72,
   "id": "3397a41d",
   "metadata": {},
   "outputs": [],
   "source": [
    "class Batsman_State(TypedDict):\n",
    "    runs : int\n",
    "    balls : int\n",
    "    no_fours : int\n",
    "    no_sixes : int\n",
    "\n",
    "    strike_rate: float\n",
    "    balls_per_boundary: float\n",
    "    boundary_percentage: float"
   ]
  },
  {
   "cell_type": "code",
   "execution_count": 73,
   "id": "41dc530f",
   "metadata": {},
   "outputs": [],
   "source": [
    "def calculate_strike_rate(state: Batsman_State):\n",
    "    state[\"strike_rate\"] = (state[\"runs\"] / state[\"balls\"]) * 100 if state[\"balls\"] > 0 else 0\n",
    "    return {\"strike_rate\": state[\"strike_rate\"]}"
   ]
  },
  {
   "cell_type": "code",
   "execution_count": 74,
   "id": "475517aa",
   "metadata": {},
   "outputs": [],
   "source": [
    "def calculate_balls_per_boundary(state: Batsman_State) :\n",
    "    state[\"balls_per_boundary\"] = state[\"balls\"] / (state[\"no_fours\"] + state[\"no_sixes\"]) if (state[\"no_fours\"] + state[\"no_sixes\"]) > 0 else 0\n",
    "    return {\"balls_per_boundary\": state[\"balls_per_boundary\"]}"
   ]
  },
  {
   "cell_type": "code",
   "execution_count": 75,
   "id": "704b9018",
   "metadata": {},
   "outputs": [],
   "source": [
    "def calculate_boundary_percentage(state: Batsman_State) :\n",
    "    total_balls = state[\"balls\"]\n",
    "    if total_balls > 0:\n",
    "        state[\"boundary_percentage\"] = ((state[\"no_fours\"] * 4 + state[\"no_sixes\"] * 6) / (total_balls * 6)) * 100\n",
    "    else:\n",
    "        state[\"boundary_percentage\"] = 0\n",
    "    return {\"boundary_percentage\": state[\"boundary_percentage\"]}"
   ]
  },
  {
   "cell_type": "code",
   "execution_count": 76,
   "id": "75f059fd",
   "metadata": {},
   "outputs": [],
   "source": [
    "def calculate_summary(state: Batsman_State) -> str:\n",
    "    summary = f\"\"\"\n",
    "Batsman Summary:\n",
    "Runs: {state[\"runs\"]}\n",
    "Balls: {state[\"balls\"]}\n",
    "Fours: {state[\"no_fours\"]}\n",
    "Sixes: {state[\"no_sixes\"]}\n",
    "Strike Rate: {state[\"strike_rate\"]:.2f}\n",
    "Balls per Boundary: {state[\"balls_per_boundary\"]:.2f}\n",
    "Boundary Percentage: {state[\"boundary_percentage\"]:.2f}%\n",
    "\"\"\"\n",
    "    return {\"summary\": summary}"
   ]
  },
  {
   "cell_type": "code",
   "execution_count": 77,
   "id": "affcfe24",
   "metadata": {},
   "outputs": [],
   "source": [
    "graph = StateGraph(Batsman_State)\n",
    "\n",
    "graph.add_node(\"calculate_strike_rate\",calculate_strike_rate)\n",
    "graph.add_node(\"calculate_balls_per_boundary\",calculate_balls_per_boundary)\n",
    "graph.add_node(\"calculate_boundary_percentage\",calculate_boundary_percentage)\n",
    "graph.add_node(\"calculate_summary\",calculate_summary)\n",
    "\n",
    "# edges\n",
    "# parallel execution\n",
    "graph.add_edge(START, \"calculate_strike_rate\")\n",
    "graph.add_edge(START, \"calculate_balls_per_boundary\")\n",
    "graph.add_edge(START, \"calculate_boundary_percentage\")\n",
    "\n",
    "# Joining the results\n",
    "graph.add_edge('calculate_strike_rate', 'calculate_summary')\n",
    "graph.add_edge('calculate_balls_per_boundary', 'calculate_summary')\n",
    "graph.add_edge('calculate_boundary_percentage', 'calculate_summary')\n",
    "graph.add_edge('calculate_summary', END)\n",
    "\n",
    "workflow = graph.compile()\n",
    "\n"
   ]
  },
  {
   "cell_type": "code",
   "execution_count": 78,
   "id": "c92aff19",
   "metadata": {},
   "outputs": [
    {
     "data": {
      "image/png": "[encoded data removed]",
      "text/plain": [
       "<langgraph.graph.state.CompiledStateGraph object at 0x000001DA4C080920>"
      ]
     },
     "execution_count": 78,
     "metadata": {},
     "output_type": "execute_result"
    }
   ],
   "source": [
    "workflow"
   ]
  },
  {
   "cell_type": "code",
   "execution_count": 82,
   "id": "de426059",
   "metadata": {},
   "outputs": [
    {
     "data": {
      "text/plain": [
       "{'runs': 50,\n",
       " 'balls': 50,\n",
       " 'no_fours': 5,\n",
       " 'no_sixes': 2,\n",
       " 'strike_rate': 100.0,\n",
       " 'balls_per_boundary': 7.142857142857143,\n",
       " 'boundary_percentage': 10.666666666666668}"
      ]
     },
     "execution_count": 82,
     "metadata": {},
     "output_type": "execute_result"
    }
   ],
   "source": [
    "initial_state = {\n",
    "    \"runs\": 50,\n",
    "    \"balls\": 50,\n",
    "    \"no_fours\": 5,\n",
    "    \"no_sixes\": 2,\n",
    "}\n",
    "\n",
    "workflow_state = workflow.invoke(initial_state)\n",
    "workflow_state"
   ]
  },
  {
   "cell_type": "code",
   "execution_count": 80,
   "id": "1d408029",
   "metadata": {},
   "outputs": [],
   "source": [
    "# Create Ollama LLaMA model\n",
    "llm = ChatOllama(\n",
    "    model=\"llama3.2:1b\",  # <-- or \"llama3\", or any valid name from `ollama list`\n",
    "    base_url=\"http://localhost:11434\"\n",
    ")"
   ]
  },
  {
   "cell_type": "code",
   "execution_count": null,
   "id": "e72573cb",
   "metadata": {},
   "outputs": [],
   "source": []
  },
  {
   "cell_type": "code",
   "execution_count": null,
   "id": "6bd52655",
   "metadata": {},
   "outputs": [],
   "source": []
  },
  {
   "cell_type": "code",
   "execution_count": null,
   "id": "7dfcf4a5",
   "metadata": {},
   "outputs": [],
   "source": []
  },
  {
   "cell_type": "code",
   "execution_count": null,
   "id": "5c6917dd",
   "metadata": {},
   "outputs": [],
   "source": []
  },
  {
   "cell_type": "code",
   "execution_count": null,
   "id": "92cf28e6",
   "metadata": {},
   "outputs": [],
   "source": []
  }
 ],
 "metadata": {
  "kernelspec": {
   "display_name": "venv",
   "language": "python",
   "name": "python3"
  },
  "language_info": {
   "codemirror_mode": {
    "name": "ipython",
    "version": 3
   },
   "file_extension": ".py",
   "mimetype": "text/x-python",
   "name": "python",
   "nbconvert_exporter": "python",
   "pygments_lexer": "ipython3",
   "version": "3.12.4"
  }
 },
 "nbformat": 4,
 "nbformat_minor": 5
}
